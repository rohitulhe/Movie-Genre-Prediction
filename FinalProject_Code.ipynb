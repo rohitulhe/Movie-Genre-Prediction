{
 "cells": [
  {
   "cell_type": "markdown",
   "metadata": {},
   "source": [
    "##  PREDICTION OF GENRES USING MOVIE PLOTS\n",
    "\n",
    "<br/>\n",
    "<br/>\n",
    "\n",
    "<center>\n",
    "    \n",
    "<table><tr><td><img src='Project_images/picture.png' width=500></td><td><img src='Project_images/project4.png' width=500></td></tr></table>\n",
    "    \n",
    "</center>"
   ]
  },
  {
   "cell_type": "code",
   "execution_count": 1,
   "metadata": {},
   "outputs": [
    {
     "name": "stderr",
     "output_type": "stream",
     "text": [
      "[nltk_data] Downloading package punkt to\n",
      "[nltk_data]     C:\\Users\\prate\\AppData\\Roaming\\nltk_data...\n",
      "[nltk_data]   Package punkt is already up-to-date!\n"
     ]
    },
    {
     "data": {
      "text/plain": [
       "True"
      ]
     },
     "execution_count": 1,
     "metadata": {},
     "output_type": "execute_result"
    }
   ],
   "source": [
    "import nltk\n",
    "nltk.download('punkt')"
   ]
  },
  {
   "cell_type": "code",
   "execution_count": 2,
   "metadata": {},
   "outputs": [],
   "source": [
    "##importing all the required libraries\n",
    "\n",
    "import pandas as pd\n",
    "import numpy as np\n",
    "import matplotlib.pyplot as plt\n",
    "%matplotlib inline\n",
    "import seaborn as sns\n",
    "import re\n",
    "\n",
    "import pickle \n",
    "#import mglearn\n",
    "import time\n",
    "\n",
    "\n",
    "from nltk.tokenize import TweetTokenizer # doesn't split at apostrophes\n",
    "from nltk import Text\n",
    "from nltk.tokenize import regexp_tokenize\n",
    "from nltk.tokenize import word_tokenize  \n",
    "from nltk.tokenize import sent_tokenize \n",
    "from nltk.corpus import stopwords\n",
    "from nltk.stem import WordNetLemmatizer\n",
    "from nltk.stem import PorterStemmer\n",
    "\n",
    "\n",
    "from sklearn.feature_extraction.text import CountVectorizer\n",
    "from sklearn.feature_extraction.text import TfidfVectorizer\n",
    "from sklearn.linear_model import LogisticRegression \n",
    "from sklearn.naive_bayes import MultinomialNB\n",
    "from sklearn.multiclass import OneVsRestClassifier\n",
    "\n",
    "\n",
    "from sklearn.model_selection import cross_val_score\n",
    "from sklearn.model_selection import train_test_split\n",
    "from sklearn import metrics\n",
    "from sklearn.metrics import classification_report\n",
    "from sklearn.metrics import confusion_matrix\n",
    "from sklearn.model_selection import GridSearchCV\n",
    "from sklearn.pipeline import make_pipeline\n",
    "\n",
    "from sklearn.metrics import accuracy_score\n",
    "from sklearn.svm import LinearSVC"
   ]
  },
  {
   "cell_type": "code",
   "execution_count": 10,
   "metadata": {},
   "outputs": [
    {
     "name": "stdout",
     "output_type": "stream",
     "text": [
      "There are 34886 rows and 8 columns\n"
     ]
    }
   ],
   "source": [
    "# \n",
    "#nRowsRead = 1000 # specify 'None' if want to read whole file\n",
    "#movies = pd.read_csv('wiki_movie_plots_deduped.csv', delimiter=',', nrows = nRowsRead)\n",
    "movies = pd.read_csv('wiki_movies.csv', delimiter=',')\n",
    "movies.dataframeName = 'wiki_movies.csv'\n",
    "nRow, nCol = movies.shape\n",
    "print(f'There are {nRow} rows and {nCol} columns')"
   ]
  },
  {
   "cell_type": "code",
   "execution_count": 11,
   "metadata": {},
   "outputs": [
    {
     "data": {
      "text/html": [
       "<div>\n",
       "<style scoped>\n",
       "    .dataframe tbody tr th:only-of-type {\n",
       "        vertical-align: middle;\n",
       "    }\n",
       "\n",
       "    .dataframe tbody tr th {\n",
       "        vertical-align: top;\n",
       "    }\n",
       "\n",
       "    .dataframe thead th {\n",
       "        text-align: right;\n",
       "    }\n",
       "</style>\n",
       "<table border=\"1\" class=\"dataframe\">\n",
       "  <thead>\n",
       "    <tr style=\"text-align: right;\">\n",
       "      <th></th>\n",
       "      <th>Release Year</th>\n",
       "      <th>Title</th>\n",
       "      <th>Origin/Ethnicity</th>\n",
       "      <th>Director</th>\n",
       "      <th>Cast</th>\n",
       "      <th>Genre</th>\n",
       "      <th>Wiki Page</th>\n",
       "      <th>Plot</th>\n",
       "    </tr>\n",
       "  </thead>\n",
       "  <tbody>\n",
       "    <tr>\n",
       "      <th>0</th>\n",
       "      <td>1901</td>\n",
       "      <td>Kansas Saloon Smashers</td>\n",
       "      <td>American</td>\n",
       "      <td>Unknown</td>\n",
       "      <td>NaN</td>\n",
       "      <td>unknown</td>\n",
       "      <td>https://en.wikipedia.org/wiki/Kansas_Saloon_Sm...</td>\n",
       "      <td>A bartender is working at a saloon, serving dr...</td>\n",
       "    </tr>\n",
       "    <tr>\n",
       "      <th>1</th>\n",
       "      <td>1901</td>\n",
       "      <td>Love by the Light of the Moon</td>\n",
       "      <td>American</td>\n",
       "      <td>Unknown</td>\n",
       "      <td>NaN</td>\n",
       "      <td>unknown</td>\n",
       "      <td>https://en.wikipedia.org/wiki/Love_by_the_Ligh...</td>\n",
       "      <td>The moon, painted with a smiling face hangs ov...</td>\n",
       "    </tr>\n",
       "    <tr>\n",
       "      <th>2</th>\n",
       "      <td>1901</td>\n",
       "      <td>The Martyred Presidents</td>\n",
       "      <td>American</td>\n",
       "      <td>Unknown</td>\n",
       "      <td>NaN</td>\n",
       "      <td>unknown</td>\n",
       "      <td>https://en.wikipedia.org/wiki/The_Martyred_Pre...</td>\n",
       "      <td>The film, just over a minute long, is composed...</td>\n",
       "    </tr>\n",
       "    <tr>\n",
       "      <th>3</th>\n",
       "      <td>1901</td>\n",
       "      <td>Terrible Teddy, the Grizzly King</td>\n",
       "      <td>American</td>\n",
       "      <td>Unknown</td>\n",
       "      <td>NaN</td>\n",
       "      <td>unknown</td>\n",
       "      <td>https://en.wikipedia.org/wiki/Terrible_Teddy,_...</td>\n",
       "      <td>Lasting just 61 seconds and consisting of two ...</td>\n",
       "    </tr>\n",
       "    <tr>\n",
       "      <th>4</th>\n",
       "      <td>1902</td>\n",
       "      <td>Jack and the Beanstalk</td>\n",
       "      <td>American</td>\n",
       "      <td>George S. Fleming, Edwin S. Porter</td>\n",
       "      <td>NaN</td>\n",
       "      <td>unknown</td>\n",
       "      <td>https://en.wikipedia.org/wiki/Jack_and_the_Bea...</td>\n",
       "      <td>The earliest known adaptation of the classic f...</td>\n",
       "    </tr>\n",
       "  </tbody>\n",
       "</table>\n",
       "</div>"
      ],
      "text/plain": [
       "   Release Year                             Title Origin/Ethnicity  \\\n",
       "0          1901            Kansas Saloon Smashers         American   \n",
       "1          1901     Love by the Light of the Moon         American   \n",
       "2          1901           The Martyred Presidents         American   \n",
       "3          1901  Terrible Teddy, the Grizzly King         American   \n",
       "4          1902            Jack and the Beanstalk         American   \n",
       "\n",
       "                             Director Cast    Genre  \\\n",
       "0                             Unknown  NaN  unknown   \n",
       "1                             Unknown  NaN  unknown   \n",
       "2                             Unknown  NaN  unknown   \n",
       "3                             Unknown  NaN  unknown   \n",
       "4  George S. Fleming, Edwin S. Porter  NaN  unknown   \n",
       "\n",
       "                                           Wiki Page  \\\n",
       "0  https://en.wikipedia.org/wiki/Kansas_Saloon_Sm...   \n",
       "1  https://en.wikipedia.org/wiki/Love_by_the_Ligh...   \n",
       "2  https://en.wikipedia.org/wiki/The_Martyred_Pre...   \n",
       "3  https://en.wikipedia.org/wiki/Terrible_Teddy,_...   \n",
       "4  https://en.wikipedia.org/wiki/Jack_and_the_Bea...   \n",
       "\n",
       "                                                Plot  \n",
       "0  A bartender is working at a saloon, serving dr...  \n",
       "1  The moon, painted with a smiling face hangs ov...  \n",
       "2  The film, just over a minute long, is composed...  \n",
       "3  Lasting just 61 seconds and consisting of two ...  \n",
       "4  The earliest known adaptation of the classic f...  "
      ]
     },
     "execution_count": 11,
     "metadata": {},
     "output_type": "execute_result"
    }
   ],
   "source": [
    "movies.head()"
   ]
  },
  {
   "cell_type": "code",
   "execution_count": 12,
   "metadata": {},
   "outputs": [
    {
     "data": {
      "text/plain": [
       "2265"
      ]
     },
     "execution_count": 12,
     "metadata": {},
     "output_type": "execute_result"
    }
   ],
   "source": [
    "# creation of the column count for aggregation\n",
    "movies['Count']=1\n",
    "movies[['Genre','Count']].groupby(['Genre'], as_index=False).count().shape[0]"
   ]
  },
  {
   "cell_type": "markdown",
   "metadata": {},
   "source": [
    "\n",
    "</br >\n",
    "<center>\n",
    "<img src=\"Project_images/project10.png\" width=800 /> \n",
    "    \n",
    "</center>\n",
    "</br>"
   ]
  },
  {
   "cell_type": "code",
   "execution_count": 13,
   "metadata": {},
   "outputs": [],
   "source": [
    "\n",
    "# %load Genre.py\n",
    "movies['GenreCorrected'] =movies['Genre'] \n",
    "movies['GenreCorrected']=movies['GenreCorrected'].str.strip()\n",
    "movies['GenreCorrected']=movies['GenreCorrected'].str.replace(' - ', '|')\n",
    "movies['GenreCorrected']=movies['GenreCorrected'].str.replace(' / ', '|')\n",
    "movies['GenreCorrected']=movies['GenreCorrected'].str.replace('/', '|')\n",
    "movies['GenreCorrected']=movies['GenreCorrected'].str.replace(' & ', '|')\n",
    "movies['GenreCorrected']=movies['GenreCorrected'].str.replace(', ', '|')\n",
    "movies['GenreCorrected']=movies['GenreCorrected'].str.replace('; ', '|')\n",
    "movies['GenreCorrected']=movies['GenreCorrected'].str.replace('bio-pic', 'biography')\n",
    "movies['GenreCorrected']=movies['GenreCorrected'].str.replace('biopic', 'biography')\n",
    "movies['GenreCorrected']=movies['GenreCorrected'].str.replace('biographical', 'biography')\n",
    "movies['GenreCorrected']=movies['GenreCorrected'].str.replace('biodrama', 'biography')\n",
    "movies['GenreCorrected']=movies['GenreCorrected'].str.replace('bio-drama', 'biography')\n",
    "movies['GenreCorrected']=movies['GenreCorrected'].str.replace('biographic', 'biography')\n",
    "movies['GenreCorrected']=movies['GenreCorrected'].str.replace(' \\(film genre\\)', '')\n",
    "movies['GenreCorrected']=movies['GenreCorrected'].str.replace('animated','animation')\n",
    "movies['GenreCorrected']=movies['GenreCorrected'].str.replace('anime','animation')\n",
    "movies['GenreCorrected']=movies['GenreCorrected'].str.replace('children\\'s','children')\n",
    "movies['GenreCorrected']=movies['GenreCorrected'].str.replace('comedey','comedy')\n",
    "movies['GenreCorrected']=movies['GenreCorrected'].str.replace('\\[not in citation given\\]','')\n",
    "movies['GenreCorrected']=movies['GenreCorrected'].str.replace(' set 4,000 years ago in the canadian arctic','')\n",
    "movies['GenreCorrected']=movies['GenreCorrected'].str.replace('historical','history')\n",
    "movies['GenreCorrected']=movies['GenreCorrected'].str.replace('romantic','romance')\n",
    "movies['GenreCorrected']=movies['GenreCorrected'].str.replace('3-d','animation')\n",
    "movies['GenreCorrected']=movies['GenreCorrected'].str.replace('3d','animation')\n",
    "movies['GenreCorrected']=movies['GenreCorrected'].str.replace('viacom 18 motion pictures','')\n",
    "movies['GenreCorrected']=movies['GenreCorrected'].str.replace('sci-fi','science_fiction')\n",
    "movies['GenreCorrected']=movies['GenreCorrected'].str.replace('ttriller','thriller')\n",
    "movies['GenreCorrected']=movies['GenreCorrected'].str.replace('.','')\n",
    "movies['GenreCorrected']=movies['GenreCorrected'].str.replace('based on radio serial','')\n",
    "movies['GenreCorrected']=movies['GenreCorrected'].str.replace(' on the early years of hitler','')\n",
    "movies['GenreCorrected']=movies['GenreCorrected'].str.replace('sci fi','science_fiction')\n",
    "movies['GenreCorrected']=movies['GenreCorrected'].str.replace('science fiction','science_fiction')\n",
    "movies['GenreCorrected']=movies['GenreCorrected'].str.replace(' (30min)','')\n",
    "movies['GenreCorrected']=movies['GenreCorrected'].str.replace('16 mm film','short')\n",
    "movies['GenreCorrected']=movies['GenreCorrected'].str.replace('\\[140\\]','drama')\n",
    "movies['GenreCorrected']=movies['GenreCorrected'].str.replace('\\[144\\]','')\n",
    "movies['GenreCorrected']=movies['GenreCorrected'].str.replace(' for ','')\n",
    "movies['GenreCorrected']=movies['GenreCorrected'].str.replace('adventures','adventure')\n",
    "movies['GenreCorrected']=movies['GenreCorrected'].str.replace('kung fu','martial_arts')\n",
    "movies['GenreCorrected']=movies['GenreCorrected'].str.replace('kung-fu','martial_arts')\n",
    "movies['GenreCorrected']=movies['GenreCorrected'].str.replace('martial arts','martial_arts')\n",
    "movies['GenreCorrected']=movies['GenreCorrected'].str.replace('world war ii','war')\n",
    "movies['GenreCorrected']=movies['GenreCorrected'].str.replace('world war i','war')\n",
    "movies['GenreCorrected']=movies['GenreCorrected'].str.replace('biography about montreal canadiens star|maurice richard','biography')\n",
    "movies['GenreCorrected']=movies['GenreCorrected'].str.replace('bholenath movies|cinekorn entertainment','')\n",
    "movies['GenreCorrected']=movies['GenreCorrected'].str.replace(' \\(volleyball\\)','')\n",
    "movies['GenreCorrected']=movies['GenreCorrected'].str.replace('spy film','spy')\n",
    "movies['GenreCorrected']=movies['GenreCorrected'].str.replace('anthology film','anthology')\n",
    "movies['GenreCorrected']=movies['GenreCorrected'].str.replace('biography fim','biography')\n",
    "movies['GenreCorrected']=movies['GenreCorrected'].str.replace('avant-garde','avant_garde')\n",
    "movies['GenreCorrected']=movies['GenreCorrected'].str.replace('biker film','biker')\n",
    "movies['GenreCorrected']=movies['GenreCorrected'].str.replace('buddy cop','buddy')\n",
    "movies['GenreCorrected']=movies['GenreCorrected'].str.replace('buddy film','buddy')\n",
    "movies['GenreCorrected']=movies['GenreCorrected'].str.replace('comedy 2-reeler','comedy')\n",
    "movies['GenreCorrected']=movies['GenreCorrected'].str.replace('films','')\n",
    "movies['GenreCorrected']=movies['GenreCorrected'].str.replace('film','')\n",
    "movies['GenreCorrected']=movies['GenreCorrected'].str.replace('biography of pioneering american photographer eadweard muybridge','biography')\n",
    "movies['GenreCorrected']=movies['GenreCorrected'].str.replace('british-german co-production','')\n",
    "movies['GenreCorrected']=movies['GenreCorrected'].str.replace('bruceploitation','martial_arts')\n",
    "movies['GenreCorrected']=movies['GenreCorrected'].str.replace('comedy-drama adaptation of the mordecai richler novel','comedy-drama')\n",
    "movies['GenreCorrected']=movies['GenreCorrected'].str.replace('movies by the mob\\|knkspl','')\n",
    "movies['GenreCorrected']=movies['GenreCorrected'].str.replace('movies','')\n",
    "movies['GenreCorrected']=movies['GenreCorrected'].str.replace('movie','')\n",
    "movies['GenreCorrected']=movies['GenreCorrected'].str.replace('coming of age','coming_of_age')\n",
    "movies['GenreCorrected']=movies['GenreCorrected'].str.replace('coming-of-age','coming_of_age')\n",
    "movies['GenreCorrected']=movies['GenreCorrected'].str.replace('drama about child soldiers','drama')\n",
    "movies['GenreCorrected']=movies['GenreCorrected'].str.replace('(( based).+)','')\n",
    "movies['GenreCorrected']=movies['GenreCorrected'].str.replace('(( co-produced).+)','')\n",
    "movies['GenreCorrected']=movies['GenreCorrected'].str.replace('(( adapted).+)','')\n",
    "movies['GenreCorrected']=movies['GenreCorrected'].str.replace('(( about).+)','')\n",
    "movies['GenreCorrected']=movies['GenreCorrected'].str.replace('musical b','musical')\n",
    "movies['GenreCorrected']=movies['GenreCorrected'].str.replace('animationchildren','animation|children')\n",
    "movies['GenreCorrected']=movies['GenreCorrected'].str.replace(' period','period')\n",
    "movies['GenreCorrected']=movies['GenreCorrected'].str.replace('drama loosely','drama')\n",
    "movies['GenreCorrected']=movies['GenreCorrected'].str.replace(' \\(aquatics|swimming\\)','')\n",
    "movies['GenreCorrected']=movies['GenreCorrected'].str.replace(' \\(aquatics|swimming\\)','')\n",
    "movies['GenreCorrected']=movies['GenreCorrected'].str.replace(\"yogesh dattatraya gosavi's directorial debut \\[9\\]\",'')\n",
    "movies['GenreCorrected']=movies['GenreCorrected'].str.replace(\"war-time\",\"war\")\n",
    "movies['GenreCorrected']=movies['GenreCorrected'].str.replace(\"wartime\",\"war\")\n",
    "movies['GenreCorrected']=movies['GenreCorrected'].str.replace(\"ww1\",\"war\")\n",
    "movies['GenreCorrected']=movies['GenreCorrected'].str.replace('unknown','')\n",
    "movies['GenreCorrected']=movies['GenreCorrected'].str.replace(\"wwii\",\"war\")\n",
    "movies['GenreCorrected']=movies['GenreCorrected'].str.replace('psychological','psycho')\n",
    "movies['GenreCorrected']=movies['GenreCorrected'].str.replace('rom-coms','romance')\n",
    "movies['GenreCorrected']=movies['GenreCorrected'].str.replace('true crime','crime')\n",
    "movies['GenreCorrected']=movies['GenreCorrected'].str.replace('\\|007','')\n",
    "movies['GenreCorrected']=movies['GenreCorrected'].str.replace('slice of life','slice_of_life')\n",
    "movies['GenreCorrected']=movies['GenreCorrected'].str.replace('computer animation','animation')\n",
    "movies['GenreCorrected']=movies['GenreCorrected'].str.replace('gun fu','martial_arts')\n",
    "movies['GenreCorrected']=movies['GenreCorrected'].str.replace('j-horror','horror')\n",
    "movies['GenreCorrected']=movies['GenreCorrected'].str.replace(' \\(shogi|chess\\)','')\n",
    "movies['GenreCorrected']=movies['GenreCorrected'].str.replace('afghan war drama','war drama')\n",
    "movies['GenreCorrected']=movies['GenreCorrected'].str.replace('\\|6 separate stories','')\n",
    "movies['GenreCorrected']=movies['GenreCorrected'].str.replace(' \\(30min\\)','')\n",
    "movies['GenreCorrected']=movies['GenreCorrected'].str.replace(' (road bicycle racing)','')\n",
    "movies['GenreCorrected']=movies['GenreCorrected'].str.replace(' v-cinema','')\n",
    "movies['GenreCorrected']=movies['GenreCorrected'].str.replace('tv miniseries','tv_miniseries')\n",
    "movies['GenreCorrected']=movies['GenreCorrected'].str.replace('\\|docudrama','\\|documentary|drama')\n",
    "movies['GenreCorrected']=movies['GenreCorrected'].str.replace(' in animation','|animation')\n",
    "movies['GenreCorrected']=movies['GenreCorrected'].str.replace('((adaptation).+)','')\n",
    "movies['GenreCorrected']=movies['GenreCorrected'].str.replace('((adaptated).+)','')\n",
    "movies['GenreCorrected']=movies['GenreCorrected'].str.replace('((adapted).+)','')\n",
    "movies['GenreCorrected']=movies['GenreCorrected'].str.replace('(( on ).+)','')\n",
    "movies['GenreCorrected']=movies['GenreCorrected'].str.replace('american football','sports')\n",
    "movies['GenreCorrected']=movies['GenreCorrected'].str.replace('dev\\|nusrat jahan','sports')\n",
    "movies['GenreCorrected']=movies['GenreCorrected'].str.replace('television miniseries','tv_miniseries')\n",
    "movies['GenreCorrected']=movies['GenreCorrected'].str.replace(' \\(artistic\\)','')\n",
    "movies['GenreCorrected']=movies['GenreCorrected'].str.replace(' \\|direct-to-dvd','')\n",
    "movies['GenreCorrected']=movies['GenreCorrected'].str.replace('history dram','history drama')\n",
    "movies['GenreCorrected']=movies['GenreCorrected'].str.replace('martial art','martial_arts')\n",
    "movies['GenreCorrected']=movies['GenreCorrected'].str.replace('psycho thriller,','psycho thriller')\n",
    "movies['GenreCorrected']=movies['GenreCorrected'].str.replace('\\|1 girl\\|3 suitors','')\n",
    "movies['GenreCorrected']=movies['GenreCorrected'].str.replace(' \\(road bicycle racing\\)','')\n",
    "filterE = movies['GenreCorrected']==\"ero\"\n",
    "movies.loc[filterE,'GenreCorrected']=\"adult\"\n",
    "filterE = movies['GenreCorrected']==\"music\"\n",
    "movies.loc[filterE,'GenreCorrected']=\"musical\"\n",
    "filterE = movies['GenreCorrected']==\"-\"\n",
    "movies.loc[filterE,'GenreCorrected']=''\n",
    "filterE = movies['GenreCorrected']==\"comedy–drama\"\n",
    "movies.loc[filterE,'GenreCorrected'] = \"comedy|drama\"\n",
    "filterE = movies['GenreCorrected']==\"comedy–horror\"\n",
    "movies.loc[filterE,'GenreCorrected'] = \"comedy|horror\"\n",
    "movies['GenreCorrected']=movies['GenreCorrected'].str.replace(' ','|')\n",
    "movies['GenreCorrected']=movies['GenreCorrected'].str.replace(',','|')\n",
    "movies['GenreCorrected']=movies['GenreCorrected'].str.replace('-','')\n",
    "movies['GenreCorrected']=movies['GenreCorrected'].str.replace('actionadventure','action|adventure')\n",
    "movies['GenreCorrected']=movies['GenreCorrected'].str.replace('actioncomedy','action|comedy')\n",
    "movies['GenreCorrected']=movies['GenreCorrected'].str.replace('actiondrama','action|drama')\n",
    "movies['GenreCorrected']=movies['GenreCorrected'].str.replace('actionlove','action|love')\n",
    "movies['GenreCorrected']=movies['GenreCorrected'].str.replace('actionmasala','action|masala')\n",
    "movies['GenreCorrected']=movies['GenreCorrected'].str.replace('actionchildren','action|children')\n",
    "\n",
    "movies['GenreCorrected']=movies['GenreCorrected'].str.replace('fantasychildren\\|','fantasy|children')\n",
    "movies['GenreCorrected']=movies['GenreCorrected'].str.replace('fantasycomedy','fantasy|comedy')\n",
    "movies['GenreCorrected']=movies['GenreCorrected'].str.replace('fantasyperiod','fantasy|period')\n",
    "movies['GenreCorrected']=movies['GenreCorrected'].str.replace('cbctv_miniseries','tv_miniseries')\n",
    "movies['GenreCorrected']=movies['GenreCorrected'].str.replace('dramacomedy','drama|comedy')\n",
    "movies['GenreCorrected']=movies['GenreCorrected'].str.replace('dramacomedysocial','drama|comedy|social')\n",
    "movies['GenreCorrected']=movies['GenreCorrected'].str.replace('dramathriller','drama|thriller')\n",
    "movies['GenreCorrected']=movies['GenreCorrected'].str.replace('comedydrama','comedy|drama')\n",
    "movies['GenreCorrected']=movies['GenreCorrected'].str.replace('dramathriller','drama|thriller')\n",
    "movies['GenreCorrected']=movies['GenreCorrected'].str.replace('comedyhorror','comedy|horror')\n",
    "movies['GenreCorrected']=movies['GenreCorrected'].str.replace('sciencefiction','science_fiction')\n",
    "movies['GenreCorrected']=movies['GenreCorrected'].str.replace('adventurecomedy','adventure|comedy')\n",
    "movies['GenreCorrected']=movies['GenreCorrected'].str.replace('animationdrama','animation|drama')\n",
    "movies['GenreCorrected']=movies['GenreCorrected'].str.replace('\\|\\|','|')\n",
    "movies['GenreCorrected']=movies['GenreCorrected'].str.replace('muslim','religious')\n",
    "movies['GenreCorrected']=movies['GenreCorrected'].str.replace('thriler','thriller')\n",
    "movies['GenreCorrected']=movies['GenreCorrected'].str.replace('crimethriller','crime|thriller')\n",
    "movies['GenreCorrected']=movies['GenreCorrected'].str.replace('fantay','fantasy')\n",
    "movies['GenreCorrected']=movies['GenreCorrected'].str.replace('actionthriller','action|thriller')\n",
    "movies['GenreCorrected']=movies['GenreCorrected'].str.replace('comedysocial','comedy|social')\n",
    "movies['GenreCorrected']=movies['GenreCorrected'].str.replace('martialarts','martial_arts')\n",
    "movies['GenreCorrected']=movies['GenreCorrected'].str.replace('\\|\\(children\\|poker\\|karuta\\)','')\n",
    "movies['GenreCorrected']=movies['GenreCorrected'].str.replace('epichistory','epic|history')\n",
    "\n",
    "movies['GenreCorrected']=movies['GenreCorrected'].str.replace('erotica','adult')\n",
    "movies['GenreCorrected']=movies['GenreCorrected'].str.replace('erotic','adult')\n",
    "\n",
    "movies['GenreCorrected']=movies['GenreCorrected'].str.replace('((\\|produced\\|).+)','')\n",
    "movies['GenreCorrected']=movies['GenreCorrected'].str.replace('chanbara','chambara')\n",
    "movies['GenreCorrected']=movies['GenreCorrected'].str.replace('comedythriller','comedy|thriller')\n",
    "movies['GenreCorrected']=movies['GenreCorrected'].str.replace('biblical','religious')\n",
    "movies['GenreCorrected']=movies['GenreCorrected'].str.replace('biblical','religious')\n",
    "movies['GenreCorrected']=movies['GenreCorrected'].str.replace('colour\\|yellow\\|productions\\|eros\\|international','')\n",
    "movies['GenreCorrected']=movies['GenreCorrected'].str.replace('\\|directtodvd','')\n",
    "movies['GenreCorrected']=movies['GenreCorrected'].str.replace('liveaction','live|action')\n",
    "movies['GenreCorrected']=movies['GenreCorrected'].str.replace('melodrama','drama')\n",
    "movies['GenreCorrected']=movies['GenreCorrected'].str.replace('superheroes','superheroe')\n",
    "movies['GenreCorrected']=movies['GenreCorrected'].str.replace('gangsterthriller','gangster|thriller')\n",
    "\n",
    "movies['GenreCorrected']=movies['GenreCorrected'].str.replace('heistcomedy','comedy')\n",
    "movies['GenreCorrected']=movies['GenreCorrected'].str.replace('heist','action')\n",
    "movies['GenreCorrected']=movies['GenreCorrected'].str.replace('historic','history')\n",
    "movies['GenreCorrected']=movies['GenreCorrected'].str.replace('historydisaster','history|disaster')\n",
    "movies['GenreCorrected']=movies['GenreCorrected'].str.replace('warcomedy','war|comedy')\n",
    "movies['GenreCorrected']=movies['GenreCorrected'].str.replace('westerncomedy','western|comedy')\n",
    "movies['GenreCorrected']=movies['GenreCorrected'].str.replace('ancientcostume','costume')\n",
    "movies['GenreCorrected']=movies['GenreCorrected'].str.replace('computeranimation','animation')\n",
    "movies['GenreCorrected']=movies['GenreCorrected'].str.replace('dramatic','drama')\n",
    "movies['GenreCorrected']=movies['GenreCorrected'].str.replace('familya','family')\n",
    "movies['GenreCorrected']=movies['GenreCorrected'].str.replace('familya','family')\n",
    "movies['GenreCorrected']=movies['GenreCorrected'].str.replace('dramedy','drama|comedy')\n",
    "movies['GenreCorrected']=movies['GenreCorrected'].str.replace('dramaa','drama')\n",
    "movies['GenreCorrected']=movies['GenreCorrected'].str.replace('famil\\|','family')\n",
    "\n",
    "movies['GenreCorrected']=movies['GenreCorrected'].str.replace('superheroe','superhero')\n",
    "movies['GenreCorrected']=movies['GenreCorrected'].str.replace('biogtaphy','biography')\n",
    "movies['GenreCorrected']=movies['GenreCorrected'].str.replace('devotionalbiography','devotional|biography')\n",
    "movies['GenreCorrected']=movies['GenreCorrected'].str.replace('docufiction','documentary|fiction')\n",
    "\n",
    "movies['GenreCorrected']=movies['GenreCorrected'].str.replace('familydrama','family|drama')\n",
    "\n",
    "movies['GenreCorrected']=movies['GenreCorrected'].str.replace('espionage','spy')\n",
    "movies['GenreCorrected']=movies['GenreCorrected'].str.replace('supeheroes','superhero')\n",
    "movies['GenreCorrected']=movies['GenreCorrected'].str.replace('romancefiction','romance|fiction')\n",
    "movies['GenreCorrected']=movies['GenreCorrected'].str.replace('horrorthriller','horror|thriller')\n",
    "\n",
    "movies['GenreCorrected']=movies['GenreCorrected'].str.replace('suspensethriller','suspense|thriller')\n",
    "movies['GenreCorrected']=movies['GenreCorrected'].str.replace('musicaliography','musical|biography')\n",
    "movies['GenreCorrected']=movies['GenreCorrected'].str.replace('triller','thriller')\n",
    "\n",
    "movies['GenreCorrected']=movies['GenreCorrected'].str.replace('\\|\\(fiction\\)','|fiction')\n",
    "\n",
    "movies['GenreCorrected']=movies['GenreCorrected'].str.replace('romanceaction','romance|action')\n",
    "movies['GenreCorrected']=movies['GenreCorrected'].str.replace('romancecomedy','romance|comedy')\n",
    "movies['GenreCorrected']=movies['GenreCorrected'].str.replace('romancehorror','romance|horror')\n",
    "\n",
    "movies['GenreCorrected']=movies['GenreCorrected'].str.replace('romcom','romance|comedy')\n",
    "movies['GenreCorrected']=movies['GenreCorrected'].str.replace('rom\\|com','romance|comedy')\n",
    "movies['GenreCorrected']=movies['GenreCorrected'].str.replace('satirical','satire')\n",
    "\n",
    "movies['GenreCorrected']=movies['GenreCorrected'].str.replace('science_fictionchildren','science_fiction|children')\n",
    "movies['GenreCorrected']=movies['GenreCorrected'].str.replace('homosexual','adult')\n",
    "movies['GenreCorrected']=movies['GenreCorrected'].str.replace('sexual','adult')\n",
    "\n",
    "movies['GenreCorrected']=movies['GenreCorrected'].str.replace('mockumentary','documentary')\n",
    "movies['GenreCorrected']=movies['GenreCorrected'].str.replace('periodic','period')\n",
    "movies['GenreCorrected']=movies['GenreCorrected'].str.replace('romanctic','romantic')\n",
    "movies['GenreCorrected']=movies['GenreCorrected'].str.replace('politics','political')\n",
    "movies['GenreCorrected']=movies['GenreCorrected'].str.replace('samurai','martial_arts')\n",
    "movies['GenreCorrected']=movies['GenreCorrected'].str.replace('tv_miniseries','series')\n",
    "movies['GenreCorrected']=movies['GenreCorrected'].str.replace('serial','series')\n",
    "\n",
    "filterE = movies['GenreCorrected']==\"musical–comedy\"\n",
    "movies.loc[filterE,'GenreCorrected'] = \"musical|comedy\"\n",
    "\n",
    "filterE = movies['GenreCorrected']==\"roman|porno\"\n",
    "movies.loc[filterE,'GenreCorrected'] = \"adult\"\n",
    "\n",
    "\n",
    "filterE = movies['GenreCorrected']==\"action—masala\"\n",
    "movies.loc[filterE,'GenreCorrected'] = \"action|masala\"\n",
    "\n",
    "\n",
    "filterE = movies['GenreCorrected']==\"horror–thriller\"\n",
    "movies.loc[filterE,'GenreCorrected'] = \"horror|thriller\"\n",
    "\n",
    "movies['GenreCorrected']=movies['GenreCorrected'].str.replace('family','children')\n",
    "movies['GenreCorrected']=movies['GenreCorrected'].str.replace('martial_arts','action')\n",
    "movies['GenreCorrected']=movies['GenreCorrected'].str.replace('horror','thriller')\n",
    "movies['GenreCorrected']=movies['GenreCorrected'].str.replace('war','action')\n",
    "movies['GenreCorrected']=movies['GenreCorrected'].str.replace('adventure','action')\n",
    "movies['GenreCorrected']=movies['GenreCorrected'].str.replace('science_fiction','action')\n",
    "movies['GenreCorrected']=movies['GenreCorrected'].str.replace('western','action')\n",
    "movies['GenreCorrected']=movies['GenreCorrected'].str.replace('western','action')\n",
    "movies['GenreCorrected']=movies['GenreCorrected'].str.replace('noir','black')\n",
    "movies['GenreCorrected']=movies['GenreCorrected'].str.replace('spy','action')\n",
    "movies['GenreCorrected']=movies['GenreCorrected'].str.replace('superhero','action')\n",
    "movies['GenreCorrected']=movies['GenreCorrected'].str.replace('social','')\n",
    "movies['GenreCorrected']=movies['GenreCorrected'].str.replace('suspense','action')\n",
    "\n",
    "\n",
    "filterE = movies['GenreCorrected']==\"drama|romance|adult|children\"\n",
    "movies.loc[filterE,'GenreCorrected'] = \"drama|romance|adult\"\n",
    "\n",
    "movies['GenreCorrected']=movies['GenreCorrected'].str.replace('\\|–\\|','|')\n",
    "movies['GenreCorrected']=movies['GenreCorrected'].str.strip(to_strip='\\|')\n",
    "movies['GenreCorrected']=movies['GenreCorrected'].str.replace('actionner','action')\n",
    "movies['GenreCorrected']=movies['GenreCorrected'].str.strip()"
   ]
  },
  {
   "cell_type": "code",
   "execution_count": 14,
   "metadata": {},
   "outputs": [],
   "source": [
    "moviesGenre = movies[['GenreCorrected','Count']].groupby(['GenreCorrected']).count()\n",
    "moviesGenre.to_csv('GenreCorrected.csv',sep=',')"
   ]
  },
  {
   "cell_type": "code",
   "execution_count": 15,
   "metadata": {},
   "outputs": [
    {
     "data": {
      "text/plain": [
       "1199"
      ]
     },
     "execution_count": 15,
     "metadata": {},
     "output_type": "execute_result"
    }
   ],
   "source": [
    "movies[['GenreCorrected','Count']].groupby(['GenreCorrected'], as_index=False).count().shape[0]"
   ]
  },
  {
   "cell_type": "markdown",
   "metadata": {},
   "source": [
    "</br >\n",
    "<center>\n",
    "<img src=\"Project_images/project5.png\" width=500 /> \n",
    "    \n",
    "</center>"
   ]
  },
  {
   "cell_type": "markdown",
   "metadata": {},
   "source": [
    "\n",
    "#### after cleaning the data would look like - "
   ]
  },
  {
   "cell_type": "code",
   "execution_count": 16,
   "metadata": {},
   "outputs": [
    {
     "data": {
      "text/html": [
       "<div>\n",
       "<style scoped>\n",
       "    .dataframe tbody tr th:only-of-type {\n",
       "        vertical-align: middle;\n",
       "    }\n",
       "\n",
       "    .dataframe tbody tr th {\n",
       "        vertical-align: top;\n",
       "    }\n",
       "\n",
       "    .dataframe thead th {\n",
       "        text-align: right;\n",
       "    }\n",
       "</style>\n",
       "<table border=\"1\" class=\"dataframe\">\n",
       "  <thead>\n",
       "    <tr style=\"text-align: right;\">\n",
       "      <th></th>\n",
       "      <th>GenreCorrected</th>\n",
       "      <th>Count</th>\n",
       "    </tr>\n",
       "  </thead>\n",
       "  <tbody>\n",
       "    <tr>\n",
       "      <th>0</th>\n",
       "      <td></td>\n",
       "      <td>6206</td>\n",
       "    </tr>\n",
       "    <tr>\n",
       "      <th>516</th>\n",
       "      <td>drama</td>\n",
       "      <td>6107</td>\n",
       "    </tr>\n",
       "    <tr>\n",
       "      <th>359</th>\n",
       "      <td>comedy</td>\n",
       "      <td>4411</td>\n",
       "    </tr>\n",
       "    <tr>\n",
       "      <th>2</th>\n",
       "      <td>action</td>\n",
       "      <td>3790</td>\n",
       "    </tr>\n",
       "    <tr>\n",
       "      <th>1111</th>\n",
       "      <td>thriller</td>\n",
       "      <td>2163</td>\n",
       "    </tr>\n",
       "    <tr>\n",
       "      <th>964</th>\n",
       "      <td>romance</td>\n",
       "      <td>954</td>\n",
       "    </tr>\n",
       "    <tr>\n",
       "      <th>203</th>\n",
       "      <td>animation</td>\n",
       "      <td>601</td>\n",
       "    </tr>\n",
       "    <tr>\n",
       "      <th>973</th>\n",
       "      <td>romance|comedy</td>\n",
       "      <td>577</td>\n",
       "    </tr>\n",
       "    <tr>\n",
       "      <th>447</th>\n",
       "      <td>crime</td>\n",
       "      <td>573</td>\n",
       "    </tr>\n",
       "    <tr>\n",
       "      <th>387</th>\n",
       "      <td>comedy|drama</td>\n",
       "      <td>560</td>\n",
       "    </tr>\n",
       "  </tbody>\n",
       "</table>\n",
       "</div>"
      ],
      "text/plain": [
       "      GenreCorrected  Count\n",
       "0                      6206\n",
       "516            drama   6107\n",
       "359           comedy   4411\n",
       "2             action   3790\n",
       "1111        thriller   2163\n",
       "964          romance    954\n",
       "203        animation    601\n",
       "973   romance|comedy    577\n",
       "447            crime    573\n",
       "387     comedy|drama    560"
      ]
     },
     "execution_count": 16,
     "metadata": {},
     "output_type": "execute_result"
    }
   ],
   "source": [
    "movies[['GenreCorrected','Count']].groupby(['GenreCorrected'],as_index=False).count().sort_values(['Count'], ascending=False).head(10)"
   ]
  },
  {
   "cell_type": "code",
   "execution_count": 17,
   "metadata": {},
   "outputs": [
    {
     "data": {
      "text/plain": [
       "0                                 \n",
       "1                                 \n",
       "2                                 \n",
       "3                                 \n",
       "4                                 \n",
       "5                                 \n",
       "6                           action\n",
       "7                           comedy\n",
       "8                                 \n",
       "9                                 \n",
       "10                           short\n",
       "11       short|action|crime|action\n",
       "12                           short\n",
       "13                       biography\n",
       "14                          comedy\n",
       "15                          comedy\n",
       "16                           drama\n",
       "17                           drama\n",
       "18                          comedy\n",
       "19                          action\n",
       "20                           drama\n",
       "21                          action\n",
       "22                           drama\n",
       "23                           drama\n",
       "24                           drama\n",
       "25                                \n",
       "26                           drama\n",
       "27                                \n",
       "28                                \n",
       "29                          comedy\n",
       "                   ...            \n",
       "34856                        drama\n",
       "34857                        drama\n",
       "34858                        drama\n",
       "34859                       action\n",
       "34860                        drama\n",
       "34861                       action\n",
       "34862                        drama\n",
       "34863                        drama\n",
       "34864                       comedy\n",
       "34865                        drama\n",
       "34866                 comedy|drama\n",
       "34867                       comedy\n",
       "34868                        drama\n",
       "34869                 comedy|drama\n",
       "34870                        drama\n",
       "34871                        drama\n",
       "34872                 comedy|drama\n",
       "34873                        drama\n",
       "34874                        drama\n",
       "34875                        drama\n",
       "34876                        drama\n",
       "34877                        drama\n",
       "34878                             \n",
       "34879                             \n",
       "34880                             \n",
       "34881                             \n",
       "34882                       comedy\n",
       "34883                       comedy\n",
       "34884               romance|comedy\n",
       "34885                      romance\n",
       "Name: GenreCorrected, Length: 34886, dtype: object"
      ]
     },
     "execution_count": 17,
     "metadata": {},
     "output_type": "execute_result"
    }
   ],
   "source": [
    "movies['GenreCorrected']"
   ]
  },
  {
   "cell_type": "code",
   "execution_count": 18,
   "metadata": {},
   "outputs": [],
   "source": [
    "\n",
    "movies['GenreSplit']=movies['GenreCorrected'].str.split('|') #splitting genres  \n",
    "\n",
    "movies['GenreSplit']=movies['GenreSplit'].apply(np.sort, axis=None).apply(np.unique) # looking for unique Genres in \n",
    "                                                                                        # GenreSplit\n",
    "#movies['GenreSplit']"
   ]
  },
  {
   "cell_type": "code",
   "execution_count": 19,
   "metadata": {},
   "outputs": [
    {
     "data": {
      "text/plain": [
       "array(['action', 'crime', 'short'], dtype='<U6')"
      ]
     },
     "execution_count": 19,
     "metadata": {},
     "output_type": "execute_result"
    }
   ],
   "source": [
    "movies['GenreSplit'][11] "
   ]
  },
  {
   "cell_type": "markdown",
   "metadata": {},
   "source": [
    "#### Number of movies for each genres"
   ]
  },
  {
   "cell_type": "code",
   "execution_count": 20,
   "metadata": {},
   "outputs": [
    {
     "data": {
      "text/plain": [
       "array(['', '', '', ..., 'comedy', 'comedy', 'romance'], dtype='<U32')"
      ]
     },
     "execution_count": 20,
     "metadata": {},
     "output_type": "execute_result"
    }
   ],
   "source": [
    "genres_array = np.array([])\n",
    "\n",
    "for i in range(0,movies.shape[0]-1):\n",
    "    genres_array = np.concatenate((genres_array, movies['GenreSplit'][i] ))\n",
    "    \n",
    "genres_array"
   ]
  },
  {
   "cell_type": "code",
   "execution_count": 21,
   "metadata": {},
   "outputs": [],
   "source": [
    "genres = pd.DataFrame({'Genre':genres_array})"
   ]
  },
  {
   "cell_type": "code",
   "execution_count": 22,
   "metadata": {},
   "outputs": [
    {
     "data": {
      "text/html": [
       "<div>\n",
       "<style scoped>\n",
       "    .dataframe tbody tr th:only-of-type {\n",
       "        vertical-align: middle;\n",
       "    }\n",
       "\n",
       "    .dataframe tbody tr th {\n",
       "        vertical-align: top;\n",
       "    }\n",
       "\n",
       "    .dataframe thead th {\n",
       "        text-align: right;\n",
       "    }\n",
       "</style>\n",
       "<table border=\"1\" class=\"dataframe\">\n",
       "  <thead>\n",
       "    <tr style=\"text-align: right;\">\n",
       "      <th></th>\n",
       "      <th>Genre</th>\n",
       "    </tr>\n",
       "  </thead>\n",
       "  <tbody>\n",
       "    <tr>\n",
       "      <th>0</th>\n",
       "      <td></td>\n",
       "    </tr>\n",
       "    <tr>\n",
       "      <th>1</th>\n",
       "      <td></td>\n",
       "    </tr>\n",
       "    <tr>\n",
       "      <th>2</th>\n",
       "      <td></td>\n",
       "    </tr>\n",
       "    <tr>\n",
       "      <th>3</th>\n",
       "      <td></td>\n",
       "    </tr>\n",
       "    <tr>\n",
       "      <th>4</th>\n",
       "      <td></td>\n",
       "    </tr>\n",
       "    <tr>\n",
       "      <th>5</th>\n",
       "      <td></td>\n",
       "    </tr>\n",
       "    <tr>\n",
       "      <th>6</th>\n",
       "      <td>action</td>\n",
       "    </tr>\n",
       "    <tr>\n",
       "      <th>7</th>\n",
       "      <td>comedy</td>\n",
       "    </tr>\n",
       "    <tr>\n",
       "      <th>8</th>\n",
       "      <td></td>\n",
       "    </tr>\n",
       "    <tr>\n",
       "      <th>9</th>\n",
       "      <td></td>\n",
       "    </tr>\n",
       "    <tr>\n",
       "      <th>10</th>\n",
       "      <td>short</td>\n",
       "    </tr>\n",
       "    <tr>\n",
       "      <th>11</th>\n",
       "      <td>action</td>\n",
       "    </tr>\n",
       "    <tr>\n",
       "      <th>12</th>\n",
       "      <td>crime</td>\n",
       "    </tr>\n",
       "    <tr>\n",
       "      <th>13</th>\n",
       "      <td>short</td>\n",
       "    </tr>\n",
       "    <tr>\n",
       "      <th>14</th>\n",
       "      <td>short</td>\n",
       "    </tr>\n",
       "    <tr>\n",
       "      <th>15</th>\n",
       "      <td>biography</td>\n",
       "    </tr>\n",
       "    <tr>\n",
       "      <th>16</th>\n",
       "      <td>comedy</td>\n",
       "    </tr>\n",
       "    <tr>\n",
       "      <th>17</th>\n",
       "      <td>comedy</td>\n",
       "    </tr>\n",
       "    <tr>\n",
       "      <th>18</th>\n",
       "      <td>drama</td>\n",
       "    </tr>\n",
       "    <tr>\n",
       "      <th>19</th>\n",
       "      <td>drama</td>\n",
       "    </tr>\n",
       "    <tr>\n",
       "      <th>20</th>\n",
       "      <td>comedy</td>\n",
       "    </tr>\n",
       "    <tr>\n",
       "      <th>21</th>\n",
       "      <td>action</td>\n",
       "    </tr>\n",
       "    <tr>\n",
       "      <th>22</th>\n",
       "      <td>drama</td>\n",
       "    </tr>\n",
       "    <tr>\n",
       "      <th>23</th>\n",
       "      <td>action</td>\n",
       "    </tr>\n",
       "    <tr>\n",
       "      <th>24</th>\n",
       "      <td>drama</td>\n",
       "    </tr>\n",
       "    <tr>\n",
       "      <th>25</th>\n",
       "      <td>drama</td>\n",
       "    </tr>\n",
       "    <tr>\n",
       "      <th>26</th>\n",
       "      <td>drama</td>\n",
       "    </tr>\n",
       "    <tr>\n",
       "      <th>27</th>\n",
       "      <td></td>\n",
       "    </tr>\n",
       "    <tr>\n",
       "      <th>28</th>\n",
       "      <td>drama</td>\n",
       "    </tr>\n",
       "    <tr>\n",
       "      <th>29</th>\n",
       "      <td></td>\n",
       "    </tr>\n",
       "  </tbody>\n",
       "</table>\n",
       "</div>"
      ],
      "text/plain": [
       "        Genre\n",
       "0            \n",
       "1            \n",
       "2            \n",
       "3            \n",
       "4            \n",
       "5            \n",
       "6      action\n",
       "7      comedy\n",
       "8            \n",
       "9            \n",
       "10      short\n",
       "11     action\n",
       "12      crime\n",
       "13      short\n",
       "14      short\n",
       "15  biography\n",
       "16     comedy\n",
       "17     comedy\n",
       "18      drama\n",
       "19      drama\n",
       "20     comedy\n",
       "21     action\n",
       "22      drama\n",
       "23     action\n",
       "24      drama\n",
       "25      drama\n",
       "26      drama\n",
       "27           \n",
       "28      drama\n",
       "29           "
      ]
     },
     "execution_count": 22,
     "metadata": {},
     "output_type": "execute_result"
    }
   ],
   "source": [
    "genres.head(30)"
   ]
  },
  {
   "cell_type": "markdown",
   "metadata": {},
   "source": [
    "### Identification of the genres to be selected, their count and calculating their frequency"
   ]
  },
  {
   "cell_type": "code",
   "execution_count": 24,
   "metadata": {},
   "outputs": [],
   "source": [
    "genres=genres[['Genre','Count']].groupby(['Genre'], as_index=False).sum().sort_values(['Count'], ascending=False)"
   ]
  },
  {
   "cell_type": "code",
   "execution_count": 25,
   "metadata": {},
   "outputs": [
    {
     "data": {
      "text/html": [
       "<div>\n",
       "<style scoped>\n",
       "    .dataframe tbody tr th:only-of-type {\n",
       "        vertical-align: middle;\n",
       "    }\n",
       "\n",
       "    .dataframe tbody tr th {\n",
       "        vertical-align: top;\n",
       "    }\n",
       "\n",
       "    .dataframe thead th {\n",
       "        text-align: right;\n",
       "    }\n",
       "</style>\n",
       "<table border=\"1\" class=\"dataframe\">\n",
       "  <thead>\n",
       "    <tr style=\"text-align: right;\">\n",
       "      <th></th>\n",
       "      <th>Genre</th>\n",
       "      <th>Count</th>\n",
       "    </tr>\n",
       "  </thead>\n",
       "  <tbody>\n",
       "    <tr>\n",
       "      <th>116</th>\n",
       "      <td>drama</td>\n",
       "      <td>9487</td>\n",
       "    </tr>\n",
       "    <tr>\n",
       "      <th>85</th>\n",
       "      <td>comedy</td>\n",
       "      <td>7320</td>\n",
       "    </tr>\n",
       "    <tr>\n",
       "      <th>4</th>\n",
       "      <td>action</td>\n",
       "      <td>5952</td>\n",
       "    </tr>\n",
       "    <tr>\n",
       "      <th>426</th>\n",
       "      <td>thriller</td>\n",
       "      <td>3291</td>\n",
       "    </tr>\n",
       "    <tr>\n",
       "      <th>337</th>\n",
       "      <td>romance</td>\n",
       "      <td>2639</td>\n",
       "    </tr>\n",
       "    <tr>\n",
       "      <th>94</th>\n",
       "      <td>crime</td>\n",
       "      <td>1607</td>\n",
       "    </tr>\n",
       "    <tr>\n",
       "      <th>244</th>\n",
       "      <td>musical</td>\n",
       "      <td>951</td>\n",
       "    </tr>\n",
       "    <tr>\n",
       "      <th>16</th>\n",
       "      <td>animation</td>\n",
       "      <td>914</td>\n",
       "    </tr>\n",
       "    <tr>\n",
       "      <th>73</th>\n",
       "      <td>children</td>\n",
       "      <td>684</td>\n",
       "    </tr>\n",
       "    <tr>\n",
       "      <th>131</th>\n",
       "      <td>fantasy</td>\n",
       "      <td>542</td>\n",
       "    </tr>\n",
       "    <tr>\n",
       "      <th>245</th>\n",
       "      <td>mystery</td>\n",
       "      <td>481</td>\n",
       "    </tr>\n",
       "    <tr>\n",
       "      <th>46</th>\n",
       "      <td>biography</td>\n",
       "      <td>463</td>\n",
       "    </tr>\n",
       "    <tr>\n",
       "      <th>47</th>\n",
       "      <td>black</td>\n",
       "      <td>412</td>\n",
       "    </tr>\n",
       "    <tr>\n",
       "      <th>149</th>\n",
       "      <td>history</td>\n",
       "      <td>256</td>\n",
       "    </tr>\n",
       "    <tr>\n",
       "      <th>368</th>\n",
       "      <td>short</td>\n",
       "      <td>241</td>\n",
       "    </tr>\n",
       "    <tr>\n",
       "      <th>114</th>\n",
       "      <td>documentary</td>\n",
       "      <td>131</td>\n",
       "    </tr>\n",
       "    <tr>\n",
       "      <th>391</th>\n",
       "      <td>sports</td>\n",
       "      <td>121</td>\n",
       "    </tr>\n",
       "    <tr>\n",
       "      <th>357</th>\n",
       "      <td>series</td>\n",
       "      <td>86</td>\n",
       "    </tr>\n",
       "    <tr>\n",
       "      <th>6</th>\n",
       "      <td>adult</td>\n",
       "      <td>71</td>\n",
       "    </tr>\n",
       "    <tr>\n",
       "      <th>288</th>\n",
       "      <td>political</td>\n",
       "      <td>60</td>\n",
       "    </tr>\n",
       "    <tr>\n",
       "      <th>90</th>\n",
       "      <td>costume</td>\n",
       "      <td>49</td>\n",
       "    </tr>\n",
       "    <tr>\n",
       "      <th>429</th>\n",
       "      <td>tokusatsu</td>\n",
       "      <td>43</td>\n",
       "    </tr>\n",
       "    <tr>\n",
       "      <th>411</th>\n",
       "      <td>supernatural</td>\n",
       "      <td>41</td>\n",
       "    </tr>\n",
       "    <tr>\n",
       "      <th>223</th>\n",
       "      <td>masala</td>\n",
       "      <td>41</td>\n",
       "    </tr>\n",
       "    <tr>\n",
       "      <th>307</th>\n",
       "      <td>psycho</td>\n",
       "      <td>39</td>\n",
       "    </tr>\n",
       "  </tbody>\n",
       "</table>\n",
       "</div>"
      ],
      "text/plain": [
       "            Genre  Count\n",
       "116         drama   9487\n",
       "85         comedy   7320\n",
       "4          action   5952\n",
       "426      thriller   3291\n",
       "337       romance   2639\n",
       "94          crime   1607\n",
       "244       musical    951\n",
       "16      animation    914\n",
       "73       children    684\n",
       "131       fantasy    542\n",
       "245       mystery    481\n",
       "46      biography    463\n",
       "47          black    412\n",
       "149       history    256\n",
       "368         short    241\n",
       "114   documentary    131\n",
       "391        sports    121\n",
       "357        series     86\n",
       "6           adult     71\n",
       "288     political     60\n",
       "90        costume     49\n",
       "429     tokusatsu     43\n",
       "411  supernatural     41\n",
       "223        masala     41\n",
       "307        psycho     39"
      ]
     },
     "execution_count": 25,
     "metadata": {},
     "output_type": "execute_result"
    }
   ],
   "source": [
    "genres = genres[genres['Genre']!='']\n",
    "genres.head(25)"
   ]
  },
  {
   "cell_type": "code",
   "execution_count": 26,
   "metadata": {},
   "outputs": [],
   "source": [
    "TotalCountGenres=sum(genres['Count'])"
   ]
  },
  {
   "cell_type": "code",
   "execution_count": 27,
   "metadata": {},
   "outputs": [
    {
     "data": {
      "text/plain": [
       "37321"
      ]
     },
     "execution_count": 27,
     "metadata": {},
     "output_type": "execute_result"
    }
   ],
   "source": [
    "TotalCountGenres"
   ]
  },
  {
   "cell_type": "markdown",
   "metadata": {},
   "source": [
    "#### The total count changed from 34885 to 37321 as we cleansed it!, Now let's calculate frequency for the genres!"
   ]
  },
  {
   "cell_type": "code",
   "execution_count": 28,
   "metadata": {},
   "outputs": [],
   "source": [
    "# calcualting frequency of genres\n",
    "genres['Frequency'] = genres['Count']/TotalCountGenres"
   ]
  },
  {
   "cell_type": "code",
   "execution_count": 29,
   "metadata": {},
   "outputs": [],
   "source": [
    "#calculating cumulative frequency\n",
    "genres['CumulativeFrequency'] = genres['Frequency'].cumsum()"
   ]
  },
  {
   "cell_type": "code",
   "execution_count": 30,
   "metadata": {},
   "outputs": [
    {
     "data": {
      "text/html": [
       "<div>\n",
       "<style scoped>\n",
       "    .dataframe tbody tr th:only-of-type {\n",
       "        vertical-align: middle;\n",
       "    }\n",
       "\n",
       "    .dataframe tbody tr th {\n",
       "        vertical-align: top;\n",
       "    }\n",
       "\n",
       "    .dataframe thead th {\n",
       "        text-align: right;\n",
       "    }\n",
       "</style>\n",
       "<table border=\"1\" class=\"dataframe\">\n",
       "  <thead>\n",
       "    <tr style=\"text-align: right;\">\n",
       "      <th></th>\n",
       "      <th>Genre</th>\n",
       "      <th>Count</th>\n",
       "      <th>Frequency</th>\n",
       "      <th>CumulativeFrequency</th>\n",
       "    </tr>\n",
       "  </thead>\n",
       "  <tbody>\n",
       "    <tr>\n",
       "      <th>116</th>\n",
       "      <td>drama</td>\n",
       "      <td>9487</td>\n",
       "      <td>0.254200</td>\n",
       "      <td>0.254200</td>\n",
       "    </tr>\n",
       "    <tr>\n",
       "      <th>85</th>\n",
       "      <td>comedy</td>\n",
       "      <td>7320</td>\n",
       "      <td>0.196136</td>\n",
       "      <td>0.450336</td>\n",
       "    </tr>\n",
       "    <tr>\n",
       "      <th>4</th>\n",
       "      <td>action</td>\n",
       "      <td>5952</td>\n",
       "      <td>0.159481</td>\n",
       "      <td>0.609818</td>\n",
       "    </tr>\n",
       "    <tr>\n",
       "      <th>426</th>\n",
       "      <td>thriller</td>\n",
       "      <td>3291</td>\n",
       "      <td>0.088181</td>\n",
       "      <td>0.697998</td>\n",
       "    </tr>\n",
       "    <tr>\n",
       "      <th>337</th>\n",
       "      <td>romance</td>\n",
       "      <td>2639</td>\n",
       "      <td>0.070711</td>\n",
       "      <td>0.768709</td>\n",
       "    </tr>\n",
       "    <tr>\n",
       "      <th>94</th>\n",
       "      <td>crime</td>\n",
       "      <td>1607</td>\n",
       "      <td>0.043059</td>\n",
       "      <td>0.811768</td>\n",
       "    </tr>\n",
       "    <tr>\n",
       "      <th>244</th>\n",
       "      <td>musical</td>\n",
       "      <td>951</td>\n",
       "      <td>0.025482</td>\n",
       "      <td>0.837250</td>\n",
       "    </tr>\n",
       "    <tr>\n",
       "      <th>16</th>\n",
       "      <td>animation</td>\n",
       "      <td>914</td>\n",
       "      <td>0.024490</td>\n",
       "      <td>0.861740</td>\n",
       "    </tr>\n",
       "    <tr>\n",
       "      <th>73</th>\n",
       "      <td>children</td>\n",
       "      <td>684</td>\n",
       "      <td>0.018327</td>\n",
       "      <td>0.880068</td>\n",
       "    </tr>\n",
       "    <tr>\n",
       "      <th>131</th>\n",
       "      <td>fantasy</td>\n",
       "      <td>542</td>\n",
       "      <td>0.014523</td>\n",
       "      <td>0.894590</td>\n",
       "    </tr>\n",
       "    <tr>\n",
       "      <th>245</th>\n",
       "      <td>mystery</td>\n",
       "      <td>481</td>\n",
       "      <td>0.012888</td>\n",
       "      <td>0.907478</td>\n",
       "    </tr>\n",
       "    <tr>\n",
       "      <th>46</th>\n",
       "      <td>biography</td>\n",
       "      <td>463</td>\n",
       "      <td>0.012406</td>\n",
       "      <td>0.919884</td>\n",
       "    </tr>\n",
       "    <tr>\n",
       "      <th>47</th>\n",
       "      <td>black</td>\n",
       "      <td>412</td>\n",
       "      <td>0.011039</td>\n",
       "      <td>0.930924</td>\n",
       "    </tr>\n",
       "    <tr>\n",
       "      <th>149</th>\n",
       "      <td>history</td>\n",
       "      <td>256</td>\n",
       "      <td>0.006859</td>\n",
       "      <td>0.937783</td>\n",
       "    </tr>\n",
       "    <tr>\n",
       "      <th>368</th>\n",
       "      <td>short</td>\n",
       "      <td>241</td>\n",
       "      <td>0.006457</td>\n",
       "      <td>0.944241</td>\n",
       "    </tr>\n",
       "    <tr>\n",
       "      <th>114</th>\n",
       "      <td>documentary</td>\n",
       "      <td>131</td>\n",
       "      <td>0.003510</td>\n",
       "      <td>0.947751</td>\n",
       "    </tr>\n",
       "    <tr>\n",
       "      <th>391</th>\n",
       "      <td>sports</td>\n",
       "      <td>121</td>\n",
       "      <td>0.003242</td>\n",
       "      <td>0.950993</td>\n",
       "    </tr>\n",
       "    <tr>\n",
       "      <th>357</th>\n",
       "      <td>series</td>\n",
       "      <td>86</td>\n",
       "      <td>0.002304</td>\n",
       "      <td>0.953297</td>\n",
       "    </tr>\n",
       "    <tr>\n",
       "      <th>6</th>\n",
       "      <td>adult</td>\n",
       "      <td>71</td>\n",
       "      <td>0.001902</td>\n",
       "      <td>0.955199</td>\n",
       "    </tr>\n",
       "    <tr>\n",
       "      <th>288</th>\n",
       "      <td>political</td>\n",
       "      <td>60</td>\n",
       "      <td>0.001608</td>\n",
       "      <td>0.956807</td>\n",
       "    </tr>\n",
       "  </tbody>\n",
       "</table>\n",
       "</div>"
      ],
      "text/plain": [
       "           Genre  Count  Frequency  CumulativeFrequency\n",
       "116        drama   9487   0.254200             0.254200\n",
       "85        comedy   7320   0.196136             0.450336\n",
       "4         action   5952   0.159481             0.609818\n",
       "426     thriller   3291   0.088181             0.697998\n",
       "337      romance   2639   0.070711             0.768709\n",
       "94         crime   1607   0.043059             0.811768\n",
       "244      musical    951   0.025482             0.837250\n",
       "16     animation    914   0.024490             0.861740\n",
       "73      children    684   0.018327             0.880068\n",
       "131      fantasy    542   0.014523             0.894590\n",
       "245      mystery    481   0.012888             0.907478\n",
       "46     biography    463   0.012406             0.919884\n",
       "47         black    412   0.011039             0.930924\n",
       "149      history    256   0.006859             0.937783\n",
       "368        short    241   0.006457             0.944241\n",
       "114  documentary    131   0.003510             0.947751\n",
       "391       sports    121   0.003242             0.950993\n",
       "357       series     86   0.002304             0.953297\n",
       "6          adult     71   0.001902             0.955199\n",
       "288    political     60   0.001608             0.956807"
      ]
     },
     "execution_count": 30,
     "metadata": {},
     "output_type": "execute_result"
    }
   ],
   "source": [
    "genres.head(20)"
   ]
  },
  {
   "cell_type": "markdown",
   "metadata": {},
   "source": [
    "#### Picking up all the genres having frequency 95% and below"
   ]
  },
  {
   "cell_type": "code",
   "execution_count": 31,
   "metadata": {},
   "outputs": [
    {
     "data": {
      "text/plain": [
       "array(['drama', 'comedy', 'action', 'thriller', 'romance', 'crime',\n",
       "       'musical', 'animation', 'children', 'fantasy', 'mystery',\n",
       "       'biography', 'black', 'history', 'short', 'documentary', 'sports',\n",
       "       'series', 'adult', 'political'], dtype=object)"
      ]
     },
     "execution_count": 31,
     "metadata": {},
     "output_type": "execute_result"
    }
   ],
   "source": [
    "# Observing genres having cumulative frequency less than .957\n",
    "np.array(genres[genres['CumulativeFrequency']<=.957]['Genre'])"
   ]
  },
  {
   "cell_type": "code",
   "execution_count": 32,
   "metadata": {},
   "outputs": [
    {
     "data": {
      "image/png": "[encoded data removed]",
      "text/plain": [
       "<Figure size 576x360 with 1 Axes>"
      ]
     },
     "metadata": {
      "needs_background": "light"
     },
     "output_type": "display_data"
    }
   ],
   "source": [
    "# Plotting genres and their respective count\n",
    "genres[genres['CumulativeFrequency']<=.957][['Genre','Count']].plot(x='Genre', y='Count', kind='bar', legend=False, grid=True, figsize=(8, 5))\n",
    "plt.title(\"Number of movies per genre\")\n",
    "plt.ylabel('# of Occurrences', fontsize=12)\n",
    "plt.xlabel('Movie genres', fontsize=12)\n",
    "plt.show()"
   ]
  },
  {
   "cell_type": "code",
   "execution_count": 33,
   "metadata": {},
   "outputs": [],
   "source": [
    "mainGenres=np.array(genres[genres['CumulativeFrequency']<=.957]['Genre'])"
   ]
  },
  {
   "cell_type": "code",
   "execution_count": 34,
   "metadata": {},
   "outputs": [
    {
     "data": {
      "text/plain": [
       "array(['adult', 'romance', 'drama'], dtype='<U7')"
      ]
     },
     "execution_count": 34,
     "metadata": {},
     "output_type": "execute_result"
    }
   ],
   "source": [
    "arr1=np.array(['adult', 'romance', 'drama','and'])\n",
    "arr1[np.in1d(arr1,mainGenres)] # genres not in the mainGenres array will be deleted"
   ]
  },
  {
   "cell_type": "code",
   "execution_count": 35,
   "metadata": {},
   "outputs": [
    {
     "data": {
      "text/plain": [
       "10                   [short]\n",
       "11    [action, crime, short]\n",
       "Name: GenreSplit, dtype: object"
      ]
     },
     "execution_count": 35,
     "metadata": {},
     "output_type": "execute_result"
    }
   ],
   "source": [
    "movies['GenreSplit'][10:12].apply(lambda x: x[np.in1d(x,mainGenres)])"
   ]
  },
  {
   "cell_type": "code",
   "execution_count": 36,
   "metadata": {},
   "outputs": [],
   "source": [
    "movies['GenreSplitMain'] = movies['GenreSplit'].apply(lambda x: x[np.in1d(x,mainGenres)])"
   ]
  },
  {
   "cell_type": "code",
   "execution_count": 37,
   "metadata": {},
   "outputs": [
    {
     "data": {
      "text/html": [
       "<div>\n",
       "<style scoped>\n",
       "    .dataframe tbody tr th:only-of-type {\n",
       "        vertical-align: middle;\n",
       "    }\n",
       "\n",
       "    .dataframe tbody tr th {\n",
       "        vertical-align: top;\n",
       "    }\n",
       "\n",
       "    .dataframe thead th {\n",
       "        text-align: right;\n",
       "    }\n",
       "</style>\n",
       "<table border=\"1\" class=\"dataframe\">\n",
       "  <thead>\n",
       "    <tr style=\"text-align: right;\">\n",
       "      <th></th>\n",
       "      <th>GenreSplitMain</th>\n",
       "      <th>GenreSplit</th>\n",
       "      <th>Genre</th>\n",
       "    </tr>\n",
       "  </thead>\n",
       "  <tbody>\n",
       "    <tr>\n",
       "      <th>190</th>\n",
       "      <td>[romance]</td>\n",
       "      <td>[romance]</td>\n",
       "      <td>romance</td>\n",
       "    </tr>\n",
       "    <tr>\n",
       "      <th>191</th>\n",
       "      <td>[comedy]</td>\n",
       "      <td>[comedy]</td>\n",
       "      <td>comedy</td>\n",
       "    </tr>\n",
       "    <tr>\n",
       "      <th>192</th>\n",
       "      <td>[drama]</td>\n",
       "      <td>[drama]</td>\n",
       "      <td>drama</td>\n",
       "    </tr>\n",
       "    <tr>\n",
       "      <th>193</th>\n",
       "      <td>[comedy]</td>\n",
       "      <td>[comedy]</td>\n",
       "      <td>comedy</td>\n",
       "    </tr>\n",
       "    <tr>\n",
       "      <th>194</th>\n",
       "      <td>[drama]</td>\n",
       "      <td>[drama]</td>\n",
       "      <td>drama</td>\n",
       "    </tr>\n",
       "    <tr>\n",
       "      <th>195</th>\n",
       "      <td>[crime, drama]</td>\n",
       "      <td>[crime, drama]</td>\n",
       "      <td>crime drama</td>\n",
       "    </tr>\n",
       "    <tr>\n",
       "      <th>196</th>\n",
       "      <td>[comedy]</td>\n",
       "      <td>[comedy]</td>\n",
       "      <td>comedy</td>\n",
       "    </tr>\n",
       "    <tr>\n",
       "      <th>197</th>\n",
       "      <td>[comedy, short]</td>\n",
       "      <td>[comedy, short]</td>\n",
       "      <td>comedy short</td>\n",
       "    </tr>\n",
       "    <tr>\n",
       "      <th>198</th>\n",
       "      <td>[fantasy]</td>\n",
       "      <td>[fantasy]</td>\n",
       "      <td>fantasy</td>\n",
       "    </tr>\n",
       "    <tr>\n",
       "      <th>199</th>\n",
       "      <td>[]</td>\n",
       "      <td>[]</td>\n",
       "      <td>unknown</td>\n",
       "    </tr>\n",
       "    <tr>\n",
       "      <th>200</th>\n",
       "      <td>[drama]</td>\n",
       "      <td>[drama]</td>\n",
       "      <td>drama</td>\n",
       "    </tr>\n",
       "    <tr>\n",
       "      <th>201</th>\n",
       "      <td>[drama]</td>\n",
       "      <td>[drama]</td>\n",
       "      <td>drama</td>\n",
       "    </tr>\n",
       "    <tr>\n",
       "      <th>202</th>\n",
       "      <td>[comedy]</td>\n",
       "      <td>[comedy]</td>\n",
       "      <td>comedy</td>\n",
       "    </tr>\n",
       "    <tr>\n",
       "      <th>203</th>\n",
       "      <td>[drama]</td>\n",
       "      <td>[drama]</td>\n",
       "      <td>drama</td>\n",
       "    </tr>\n",
       "    <tr>\n",
       "      <th>204</th>\n",
       "      <td>[comedy]</td>\n",
       "      <td>[comedy]</td>\n",
       "      <td>comedy</td>\n",
       "    </tr>\n",
       "    <tr>\n",
       "      <th>205</th>\n",
       "      <td>[comedy, drama]</td>\n",
       "      <td>[comedy, drama]</td>\n",
       "      <td>comedy drama</td>\n",
       "    </tr>\n",
       "    <tr>\n",
       "      <th>206</th>\n",
       "      <td>[mystery]</td>\n",
       "      <td>[mystery]</td>\n",
       "      <td>mystery</td>\n",
       "    </tr>\n",
       "    <tr>\n",
       "      <th>207</th>\n",
       "      <td>[drama]</td>\n",
       "      <td>[drama]</td>\n",
       "      <td>drama</td>\n",
       "    </tr>\n",
       "    <tr>\n",
       "      <th>208</th>\n",
       "      <td>[drama]</td>\n",
       "      <td>[drama]</td>\n",
       "      <td>drama</td>\n",
       "    </tr>\n",
       "    <tr>\n",
       "      <th>209</th>\n",
       "      <td>[comedy, drama]</td>\n",
       "      <td>[comedy, drama]</td>\n",
       "      <td>comedy drama</td>\n",
       "    </tr>\n",
       "    <tr>\n",
       "      <th>210</th>\n",
       "      <td>[comedy]</td>\n",
       "      <td>[comedy]</td>\n",
       "      <td>comedy</td>\n",
       "    </tr>\n",
       "    <tr>\n",
       "      <th>211</th>\n",
       "      <td>[fantasy]</td>\n",
       "      <td>[fantasy]</td>\n",
       "      <td>fantasy</td>\n",
       "    </tr>\n",
       "    <tr>\n",
       "      <th>212</th>\n",
       "      <td>[drama]</td>\n",
       "      <td>[drama]</td>\n",
       "      <td>drama</td>\n",
       "    </tr>\n",
       "    <tr>\n",
       "      <th>213</th>\n",
       "      <td>[action, drama]</td>\n",
       "      <td>[action, drama]</td>\n",
       "      <td>war drama</td>\n",
       "    </tr>\n",
       "    <tr>\n",
       "      <th>214</th>\n",
       "      <td>[action, drama]</td>\n",
       "      <td>[action, drama]</td>\n",
       "      <td>war drama</td>\n",
       "    </tr>\n",
       "    <tr>\n",
       "      <th>215</th>\n",
       "      <td>[action]</td>\n",
       "      <td>[action]</td>\n",
       "      <td>adventure</td>\n",
       "    </tr>\n",
       "    <tr>\n",
       "      <th>216</th>\n",
       "      <td>[comedy, romance]</td>\n",
       "      <td>[comedy, romance]</td>\n",
       "      <td>romantic comedy</td>\n",
       "    </tr>\n",
       "    <tr>\n",
       "      <th>217</th>\n",
       "      <td>[]</td>\n",
       "      <td>[propaganda]</td>\n",
       "      <td>propaganda</td>\n",
       "    </tr>\n",
       "    <tr>\n",
       "      <th>218</th>\n",
       "      <td>[action]</td>\n",
       "      <td>[action, propaganda]</td>\n",
       "      <td>ww1 propaganda</td>\n",
       "    </tr>\n",
       "    <tr>\n",
       "      <th>219</th>\n",
       "      <td>[action]</td>\n",
       "      <td>[action]</td>\n",
       "      <td>western</td>\n",
       "    </tr>\n",
       "  </tbody>\n",
       "</table>\n",
       "</div>"
      ],
      "text/plain": [
       "        GenreSplitMain            GenreSplit            Genre\n",
       "190          [romance]             [romance]          romance\n",
       "191           [comedy]              [comedy]           comedy\n",
       "192            [drama]               [drama]            drama\n",
       "193           [comedy]              [comedy]           comedy\n",
       "194            [drama]               [drama]            drama\n",
       "195     [crime, drama]        [crime, drama]      crime drama\n",
       "196           [comedy]              [comedy]           comedy\n",
       "197    [comedy, short]       [comedy, short]     comedy short\n",
       "198          [fantasy]             [fantasy]          fantasy\n",
       "199                 []                    []          unknown\n",
       "200            [drama]               [drama]            drama\n",
       "201            [drama]               [drama]            drama\n",
       "202           [comedy]              [comedy]           comedy\n",
       "203            [drama]               [drama]            drama\n",
       "204           [comedy]              [comedy]           comedy\n",
       "205    [comedy, drama]       [comedy, drama]     comedy drama\n",
       "206          [mystery]             [mystery]          mystery\n",
       "207            [drama]               [drama]            drama\n",
       "208            [drama]               [drama]            drama\n",
       "209    [comedy, drama]       [comedy, drama]     comedy drama\n",
       "210           [comedy]              [comedy]           comedy\n",
       "211          [fantasy]             [fantasy]          fantasy\n",
       "212            [drama]               [drama]            drama\n",
       "213    [action, drama]       [action, drama]        war drama\n",
       "214    [action, drama]       [action, drama]        war drama\n",
       "215           [action]              [action]        adventure\n",
       "216  [comedy, romance]     [comedy, romance]  romantic comedy\n",
       "217                 []          [propaganda]       propaganda\n",
       "218           [action]  [action, propaganda]   ww1 propaganda\n",
       "219           [action]              [action]          western"
      ]
     },
     "execution_count": 37,
     "metadata": {},
     "output_type": "execute_result"
    }
   ],
   "source": [
    "movies[['GenreSplitMain','GenreSplit','Genre']][180:200]"
   ]
  },
  {
   "cell_type": "markdown",
   "metadata": {},
   "source": [
    "### Cleaning the plot of the movies"
   ]
  },
  {
   "cell_type": "markdown",
   "metadata": {},
   "source": [
    "###### Code below is for tokenizing,stemming and eradictaing stopwords and the rejoining the plot"
   ]
  },
  {
   "cell_type": "markdown",
   "metadata": {},
   "source": [
    "<br/>\n",
    "<br/>\n",
    "\n",
    "<center>\n",
    "    \n",
    "<table><tr><td><img src='Project_images/projectmodel.png' width=500>\n",
    "    \n",
    "</center>\n",
    "\n",
    "Pre-processing text data\n",
    "\n",
    "Most of the text data are cleaned by following below steps.\n",
    "\n",
    "    Remove punctuations\n",
    "    Tokenization - Converting a sentence into list of words\n",
    "    Remove stopwords\n",
    "    Lammetization/stemming - Tranforming any form of a word to its root word\n",
    "    \n",
    "\n"
   ]
  },
  {
   "cell_type": "code",
   "execution_count": 38,
   "metadata": {},
   "outputs": [
    {
     "data": {
      "text/plain": [
       "'!\"#$%&\\'()*+,-./:;<=>?@[\\\\]^_`{|}~'"
      ]
     },
     "execution_count": 38,
     "metadata": {},
     "output_type": "execute_result"
    }
   ],
   "source": [
    "#Remove punctuations\n",
    "import string\n",
    "string.punctuation"
   ]
  },
  {
   "cell_type": "code",
   "execution_count": 39,
   "metadata": {},
   "outputs": [
    {
     "data": {
      "text/plain": [
       "0    A bartender is working at a saloon serving dri...\n",
       "1    The moon painted with a smiling face hangs ove...\n",
       "2    The film just over a minute long is composed o...\n",
       "3    Lasting just  seconds and consisting of two sh...\n",
       "4    The earliest known adaptation of the classic f...\n",
       "5    Alice follows a large white rabbit down a Rabb...\n",
       "6    The film opens with two bandits breaking into ...\n",
       "7    The film is about a family who move to the sub...\n",
       "8    The opening scene shows the interior of the ro...\n",
       "9    Scenes are introduced using lines of the poem ...\n",
       "Name: PlotClean, dtype: object"
      ]
     },
     "execution_count": 39,
     "metadata": {},
     "output_type": "execute_result"
    }
   ],
   "source": [
    "# Function to remove punctuation\n",
    "def remove_punct(text):\n",
    "    text  = \"\".join([char for char in text if char not in string.punctuation])\n",
    "    text = re.sub('[0-9]+', '', text)\n",
    "    return text\n",
    "\n",
    "movies.Plot=movies.Plot.astype(str)\n",
    "#Calling remove_punct function\n",
    "movies['PlotClean'] = movies['Plot'].apply(lambda x: remove_punct(x)).astype(str) \n",
    "\n",
    "movies['PlotClean'].head(10)"
   ]
  },
  {
   "cell_type": "code",
   "execution_count": 40,
   "metadata": {},
   "outputs": [],
   "source": [
    "# creating function clean_text to remove apostrophies\n",
    "def clean_text(text):\n",
    "    text = text.lower()\n",
    "    text = re.sub(r\"what's\", \"what is \", text)\n",
    "    text = re.sub(r\"\\'s\", \" \", text)\n",
    "    text = re.sub(r\"\\'ve\", \" have \", text)\n",
    "    text = re.sub(r\"can't\", \"can not \", text)\n",
    "    text = re.sub(r\"n't\", \" not \", text)\n",
    "    text = re.sub(r\"i'm\", \"i am \", text)\n",
    "    text = re.sub(r\"\\'re\", \" are \", text)\n",
    "    text = re.sub(r\"\\'d\", \" would \", text)\n",
    "    text = re.sub(r\"\\'ll\", \" will \", text)\n",
    "    text = re.sub(r\"\\'scuse\", \" excuse \", text)\n",
    "    #text = re.sub('\\W', ' ', text)\n",
    "    #text = re.sub('\\s+', ' ', text)\n",
    "    text = text.strip(' ')\n",
    "    return text"
   ]
  },
  {
   "cell_type": "code",
   "execution_count": 41,
   "metadata": {},
   "outputs": [
    {
     "data": {
      "text/plain": [
       "['the rarebit fiend gorges on welsh rarebit at a restaurant when he leaves he begins to get dizzy as he starts to hallucinate he desperately tries to hang onto a lamppost as the world spins all around him a man helps him get home he falls into bed and begins having more hallucinatory dreams during a dream sequence the furniture begins moving around the room imps emerge from a floating welsh rarebit container and begin poking his head as he sleeps his bed then begins dancing and spinning wildly around the room before flying out the window with the fiend in it the bed floats across the city as the fiend floats up and off the bed he hangs off the back and eventually gets caught on a weathervane atop a steeple his bedclothes tear and he falls from the sky crashing through his bedroom ceiling the fiend awakens from the dream after falling out of his bed',\n",
       " 'the film features a train traveling through the rockies and a hold up created by two thugs placing logs on the line they systematically rob the wealthy occupants at gunpoint and then make their getaway along the tracks and later by a hijacked horse and cart']"
      ]
     },
     "execution_count": 41,
     "metadata": {},
     "output_type": "execute_result"
    }
   ],
   "source": [
    "# Calling function clean_text\n",
    "list(movies['PlotClean'][10:12].apply(clean_text))"
   ]
  },
  {
   "cell_type": "code",
   "execution_count": 42,
   "metadata": {},
   "outputs": [
    {
     "data": {
      "text/plain": [
       "['The Rarebit Fiend gorges on Welsh rarebit at a restaurant When he leaves he begins to get dizzy as he starts to hallucinate He desperately tries to hang onto a lamppost as the world spins all around him A man helps him get home He falls into bed and begins having more hallucinatory dreams During a dream sequence the furniture begins moving around the room Imps emerge from a floating Welsh rarebit container and begin poking his head as he sleeps His bed then begins dancing and spinning wildly around the room before flying out the window with the Fiend in it The bed floats across the city as the Fiend floats up and off the bed He hangs off the back and eventually gets caught on a weathervane atop a steeple His bedclothes tear and he falls from the sky crashing through his bedroom ceiling The Fiend awakens from the dream after falling out of his bed',\n",
       " 'The film features a train traveling through the Rockies and a hold up created by two thugs placing logs on the line They systematically rob the wealthy occupants at gunpoint and then make their getaway along the tracks and later by a hijacked horse and cart']"
      ]
     },
     "execution_count": 42,
     "metadata": {},
     "output_type": "execute_result"
    }
   ],
   "source": [
    "list(movies['PlotClean'][10:12])"
   ]
  },
  {
   "cell_type": "code",
   "execution_count": 43,
   "metadata": {},
   "outputs": [
    {
     "data": {
      "text/plain": [
       "0    a bartender is working at a saloon serving dri...\n",
       "1    the moon painted with a smiling face hangs ove...\n",
       "2    the film just over a minute long is composed o...\n",
       "3    lasting just  seconds and consisting of two sh...\n",
       "4    the earliest known adaptation of the classic f...\n",
       "Name: PlotClean_new, dtype: object"
      ]
     },
     "execution_count": 43,
     "metadata": {},
     "output_type": "execute_result"
    }
   ],
   "source": [
    "movies.PlotClean=movies.PlotClean.astype(str)\n",
    "movies['PlotClean_new'] = movies['PlotClean'].apply(clean_text)\n",
    "movies['PlotClean_new'].head(5)"
   ]
  },
  {
   "cell_type": "code",
   "execution_count": 44,
   "metadata": {},
   "outputs": [
    {
     "data": {
      "text/html": [
       "<div>\n",
       "<style scoped>\n",
       "    .dataframe tbody tr th:only-of-type {\n",
       "        vertical-align: middle;\n",
       "    }\n",
       "\n",
       "    .dataframe tbody tr th {\n",
       "        vertical-align: top;\n",
       "    }\n",
       "\n",
       "    .dataframe thead th {\n",
       "        text-align: right;\n",
       "    }\n",
       "</style>\n",
       "<table border=\"1\" class=\"dataframe\">\n",
       "  <thead>\n",
       "    <tr style=\"text-align: right;\">\n",
       "      <th></th>\n",
       "      <th>Plot</th>\n",
       "      <th>PlotClean</th>\n",
       "      <th>PlotClean_new</th>\n",
       "      <th>GenreSplitMain</th>\n",
       "    </tr>\n",
       "  </thead>\n",
       "  <tbody>\n",
       "    <tr>\n",
       "      <th>6</th>\n",
       "      <td>The film opens with two bandits breaking into ...</td>\n",
       "      <td>The film opens with two bandits breaking into ...</td>\n",
       "      <td>the film opens with two bandits breaking into ...</td>\n",
       "      <td>[action]</td>\n",
       "    </tr>\n",
       "    <tr>\n",
       "      <th>7</th>\n",
       "      <td>The film is about a family who move to the sub...</td>\n",
       "      <td>The film is about a family who move to the sub...</td>\n",
       "      <td>the film is about a family who move to the sub...</td>\n",
       "      <td>[comedy]</td>\n",
       "    </tr>\n",
       "    <tr>\n",
       "      <th>8</th>\n",
       "      <td>The opening scene shows the interior of the ro...</td>\n",
       "      <td>The opening scene shows the interior of the ro...</td>\n",
       "      <td>the opening scene shows the interior of the ro...</td>\n",
       "      <td>[]</td>\n",
       "    </tr>\n",
       "    <tr>\n",
       "      <th>9</th>\n",
       "      <td>Scenes are introduced using lines of the poem....</td>\n",
       "      <td>Scenes are introduced using lines of the poem ...</td>\n",
       "      <td>scenes are introduced using lines of the poem ...</td>\n",
       "      <td>[]</td>\n",
       "    </tr>\n",
       "    <tr>\n",
       "      <th>10</th>\n",
       "      <td>The Rarebit Fiend gorges on Welsh rarebit at a...</td>\n",
       "      <td>The Rarebit Fiend gorges on Welsh rarebit at a...</td>\n",
       "      <td>the rarebit fiend gorges on welsh rarebit at a...</td>\n",
       "      <td>[short]</td>\n",
       "    </tr>\n",
       "    <tr>\n",
       "      <th>11</th>\n",
       "      <td>The film features a train traveling through th...</td>\n",
       "      <td>The film features a train traveling through th...</td>\n",
       "      <td>the film features a train traveling through th...</td>\n",
       "      <td>[action, crime, short]</td>\n",
       "    </tr>\n",
       "  </tbody>\n",
       "</table>\n",
       "</div>"
      ],
      "text/plain": [
       "                                                 Plot  \\\n",
       "6   The film opens with two bandits breaking into ...   \n",
       "7   The film is about a family who move to the sub...   \n",
       "8   The opening scene shows the interior of the ro...   \n",
       "9   Scenes are introduced using lines of the poem....   \n",
       "10  The Rarebit Fiend gorges on Welsh rarebit at a...   \n",
       "11  The film features a train traveling through th...   \n",
       "\n",
       "                                            PlotClean  \\\n",
       "6   The film opens with two bandits breaking into ...   \n",
       "7   The film is about a family who move to the sub...   \n",
       "8   The opening scene shows the interior of the ro...   \n",
       "9   Scenes are introduced using lines of the poem ...   \n",
       "10  The Rarebit Fiend gorges on Welsh rarebit at a...   \n",
       "11  The film features a train traveling through th...   \n",
       "\n",
       "                                        PlotClean_new          GenreSplitMain  \n",
       "6   the film opens with two bandits breaking into ...                [action]  \n",
       "7   the film is about a family who move to the sub...                [comedy]  \n",
       "8   the opening scene shows the interior of the ro...                      []  \n",
       "9   scenes are introduced using lines of the poem ...                      []  \n",
       "10  the rarebit fiend gorges on welsh rarebit at a...                 [short]  \n",
       "11  the film features a train traveling through th...  [action, crime, short]  "
      ]
     },
     "execution_count": 44,
     "metadata": {},
     "output_type": "execute_result"
    }
   ],
   "source": [
    "movies[['Plot','PlotClean','PlotClean_new','GenreSplitMain']][6:12]"
   ]
  },
  {
   "cell_type": "markdown",
   "metadata": {},
   "source": [
    "\n",
    "</br >\n",
    "<center>\n",
    "<img src=\"Project_images/projecttokenizing.png\" width=500 /> \n",
    "    \n",
    "</center>"
   ]
  },
  {
   "cell_type": "code",
   "execution_count": 45,
   "metadata": {},
   "outputs": [],
   "source": [
    "from nltk.tokenize import sent_tokenize, word_tokenize\n",
    "from nltk.corpus import stopwords\n",
    "from nltk.stem import PorterStemmer\n",
    "stemming = PorterStemmer() # using Porter Stemmer for stemming words\n",
    " \n",
    "\n",
    "\n",
    "movies.PlotClean_new = movies.PlotClean_new.astype(str)    # coz pandas assign datatypes accordingly\n",
    "movies.PlotClean_new = movies.PlotClean_new.apply(lambda x: x.lower())\n",
    "\n",
    "# Function to identify tokens in Plot\n",
    "def identify_tokens(row):\n",
    "    movies = row['PlotClean_new']\n",
    "    tokens = nltk.word_tokenize(movies)\n",
    "    # taken only words (not punctuation)\n",
    "    token_words = [w for w in tokens if w.isalpha()]\n",
    "    return token_words\n",
    "# Calling function identify_tokens\n",
    "movies['PlotClean_new'] = movies.apply(identify_tokens, axis=1)"
   ]
  },
  {
   "cell_type": "code",
   "execution_count": 46,
   "metadata": {
    "scrolled": true
   },
   "outputs": [
    {
     "name": "stdout",
     "output_type": "stream",
     "text": [
      "['a', 'bartender', 'is', 'working', 'at', 'a', 'saloon', 'serving', 'drinks', 'to', 'customers', 'after', 'he', 'fills', 'a', 'stereotypically', 'irish', 'mans', 'bucket', 'with', 'beer', 'carrie', 'nation', 'and', 'her', 'followers', 'burst', 'inside', 'they', 'assault', 'the', 'irish', 'man', 'pulling', 'his', 'hat', 'over', 'his', 'eyes', 'and', 'then', 'dumping', 'the', 'beer', 'over', 'his', 'head', 'the', 'group', 'then', 'begin', 'wrecking', 'the', 'bar', 'smashing', 'the', 'fixtures', 'mirrors', 'and', 'breaking', 'the', 'cash', 'register', 'the', 'bartender', 'then', 'sprays', 'seltzer', 'water', 'in', 'nations', 'face', 'before', 'a', 'group', 'of', 'policemen', 'appear', 'and', 'order', 'everybody', 'to', 'leave']\n"
     ]
    }
   ],
   "source": [
    "print(movies['PlotClean_new'][0])"
   ]
  },
  {
   "cell_type": "markdown",
   "metadata": {},
   "source": [
    "### Now moving ahead with removing STOPWORDS...\n",
    "<br/>\n",
    "<br/>\n",
    "\n",
    "<center>\n",
    "    \n",
    "<table><tr><td><img src='Project_images/projectstopwords.png' width=500></td><td><img src='Project_images/projectstop.png' width=500></td></tr></table>\n",
    "    \n",
    "</center>"
   ]
  },
  {
   "cell_type": "code",
   "execution_count": 47,
   "metadata": {},
   "outputs": [
    {
     "name": "stderr",
     "output_type": "stream",
     "text": [
      "[nltk_data] Downloading package stopwords to\n",
      "[nltk_data]     C:\\Users\\prate\\AppData\\Roaming\\nltk_data...\n",
      "[nltk_data]   Package stopwords is already up-to-date!\n"
     ]
    },
    {
     "data": {
      "text/plain": [
       "True"
      ]
     },
     "execution_count": 47,
     "metadata": {},
     "output_type": "execute_result"
    }
   ],
   "source": [
    "import nltk\n",
    "nltk.download('stopwords')"
   ]
  },
  {
   "cell_type": "code",
   "execution_count": 48,
   "metadata": {},
   "outputs": [],
   "source": [
    "stopWords = set(stopwords.words('english'))\n",
    "# Creating funtion remove_stops\n",
    "def remove_stops(row):\n",
    "    my_list = row['PlotClean_new']\n",
    "    meaningful_words = [w for w in my_list if not w in stopWords]\n",
    "    return (meaningful_words)\n",
    "# Calling function remove_stops\n",
    "movies['PlotClean_new'] = movies.apply(remove_stops, axis=1)"
   ]
  },
  {
   "cell_type": "code",
   "execution_count": 49,
   "metadata": {},
   "outputs": [
    {
     "name": "stdout",
     "output_type": "stream",
     "text": [
      "The moon painted with a smiling face hangs over a park at night A young couple walking past a fence learn on a railing and look up The moon smiles They embrace and the moons smile gets bigger They then sit down on a bench by a tree The moons view is blocked causing him to frown In the last scene the man fans the woman with his hat because the moon has left the sky and is perched over her shoulder to see everything better\n"
     ]
    }
   ],
   "source": [
    "print(movies['PlotClean'][1])"
   ]
  },
  {
   "cell_type": "markdown",
   "metadata": {},
   "source": [
    "\n",
    "</br >\n",
    "<center>\n",
    "<img src=\"Project_images/projectstemming.png\" width=500 /> \n",
    "    \n",
    "</center>"
   ]
  },
  {
   "cell_type": "code",
   "execution_count": 50,
   "metadata": {},
   "outputs": [],
   "source": [
    "# Creating function stem_list\n",
    "def stem_list(row):\n",
    "    my_list = row['PlotClean_new']\n",
    "    stemmed_list = [stemming.stem(word) for word in my_list]\n",
    "    return (stemmed_list)\n",
    "# Calling function stem_list\n",
    "movies['PlotClean_new'] = movies.apply(stem_list, axis=1)"
   ]
  },
  {
   "cell_type": "code",
   "execution_count": 51,
   "metadata": {},
   "outputs": [
    {
     "name": "stdout",
     "output_type": "stream",
     "text": [
      "['moon', 'paint', 'smile', 'face', 'hang', 'park', 'night', 'young', 'coupl', 'walk', 'past', 'fenc', 'learn', 'rail', 'look', 'moon', 'smile', 'embrac', 'moon', 'smile', 'get', 'bigger', 'sit', 'bench', 'tree', 'moon', 'view', 'block', 'caus', 'frown', 'last', 'scene', 'man', 'fan', 'woman', 'hat', 'moon', 'left', 'sky', 'perch', 'shoulder', 'see', 'everyth', 'better']\n"
     ]
    }
   ],
   "source": [
    "print(movies['PlotClean_new'][1])"
   ]
  },
  {
   "cell_type": "markdown",
   "metadata": {},
   "source": [
    "#### rejoining the data chunks once again below"
   ]
  },
  {
   "cell_type": "code",
   "execution_count": 52,
   "metadata": {},
   "outputs": [],
   "source": [
    "#Function to rejoin meaningful words\n",
    "def rejoin_words(row):\n",
    "    my_list = row['PlotClean_new']\n",
    "    joined_words = ( \" \".join(my_list))\n",
    "    return joined_words\n",
    "# calling function rejoin_words\n",
    "movies['PlotClean_new'] = movies.apply(rejoin_words, axis=1)"
   ]
  },
  {
   "cell_type": "code",
   "execution_count": 55,
   "metadata": {},
   "outputs": [],
   "source": [
    "movies['MainGenresCount'] = movies['GenreSplitMain'].apply(len)"
   ]
  },
  {
   "cell_type": "code",
   "execution_count": 56,
   "metadata": {},
   "outputs": [
    {
     "data": {
      "text/plain": [
       "7"
      ]
     },
     "execution_count": 56,
     "metadata": {},
     "output_type": "execute_result"
    }
   ],
   "source": [
    "max(movies['MainGenresCount']) "
   ]
  },
  {
   "cell_type": "code",
   "execution_count": 57,
   "metadata": {},
   "outputs": [
    {
     "data": {
      "text/html": [
       "<div>\n",
       "<style scoped>\n",
       "    .dataframe tbody tr th:only-of-type {\n",
       "        vertical-align: middle;\n",
       "    }\n",
       "\n",
       "    .dataframe tbody tr th {\n",
       "        vertical-align: top;\n",
       "    }\n",
       "\n",
       "    .dataframe thead th {\n",
       "        text-align: right;\n",
       "    }\n",
       "</style>\n",
       "<table border=\"1\" class=\"dataframe\">\n",
       "  <thead>\n",
       "    <tr style=\"text-align: right;\">\n",
       "      <th></th>\n",
       "      <th>Release Year</th>\n",
       "      <th>Title</th>\n",
       "      <th>Origin/Ethnicity</th>\n",
       "      <th>Director</th>\n",
       "      <th>Cast</th>\n",
       "      <th>Genre</th>\n",
       "      <th>Wiki Page</th>\n",
       "      <th>Plot</th>\n",
       "      <th>Count</th>\n",
       "      <th>GenreCorrected</th>\n",
       "      <th>GenreSplit</th>\n",
       "      <th>GenreSplitMain</th>\n",
       "      <th>PlotClean</th>\n",
       "      <th>PlotClean_new</th>\n",
       "      <th>MainGenresCount</th>\n",
       "    </tr>\n",
       "  </thead>\n",
       "  <tbody>\n",
       "    <tr>\n",
       "      <th>17314</th>\n",
       "      <td>2017</td>\n",
       "      <td>American Made</td>\n",
       "      <td>American</td>\n",
       "      <td>Doug Liman</td>\n",
       "      <td>Doug Liman (director); Gary Spinelli (screenpl...</td>\n",
       "      <td>biography, action, comedy, crime, drama, histo...</td>\n",
       "      <td>https://en.wikipedia.org/wiki/American_Made_(f...</td>\n",
       "      <td>In the late 1970s, Barry Seal, a pilot for com...</td>\n",
       "      <td>1</td>\n",
       "      <td>biography|action|comedy|crime|drama|history|th...</td>\n",
       "      <td>[action, biography, comedy, crime, drama, hist...</td>\n",
       "      <td>[action, biography, comedy, crime, drama, hist...</td>\n",
       "      <td>In the late s Barry Seal a pilot for commercia...</td>\n",
       "      <td>late barri seal pilot commerci airlin twa cont...</td>\n",
       "      <td>7</td>\n",
       "    </tr>\n",
       "  </tbody>\n",
       "</table>\n",
       "</div>"
      ],
      "text/plain": [
       "       Release Year          Title Origin/Ethnicity    Director  \\\n",
       "17314          2017  American Made         American  Doug Liman   \n",
       "\n",
       "                                                    Cast  \\\n",
       "17314  Doug Liman (director); Gary Spinelli (screenpl...   \n",
       "\n",
       "                                                   Genre  \\\n",
       "17314  biography, action, comedy, crime, drama, histo...   \n",
       "\n",
       "                                               Wiki Page  \\\n",
       "17314  https://en.wikipedia.org/wiki/American_Made_(f...   \n",
       "\n",
       "                                                    Plot  Count  \\\n",
       "17314  In the late 1970s, Barry Seal, a pilot for com...      1   \n",
       "\n",
       "                                          GenreCorrected  \\\n",
       "17314  biography|action|comedy|crime|drama|history|th...   \n",
       "\n",
       "                                              GenreSplit  \\\n",
       "17314  [action, biography, comedy, crime, drama, hist...   \n",
       "\n",
       "                                          GenreSplitMain  \\\n",
       "17314  [action, biography, comedy, crime, drama, hist...   \n",
       "\n",
       "                                               PlotClean  \\\n",
       "17314  In the late s Barry Seal a pilot for commercia...   \n",
       "\n",
       "                                           PlotClean_new  MainGenresCount  \n",
       "17314  late barri seal pilot commerci airlin twa cont...                7  "
      ]
     },
     "execution_count": 57,
     "metadata": {},
     "output_type": "execute_result"
    }
   ],
   "source": [
    "movies[movies['MainGenresCount']==7]"
   ]
  },
  {
   "cell_type": "code",
   "execution_count": 58,
   "metadata": {},
   "outputs": [
    {
     "data": {
      "image/png": "[encoded data removed]",
      "text/plain": [
       "<Figure size 432x288 with 1 Axes>"
      ]
     },
     "metadata": {
      "needs_background": "light"
     },
     "output_type": "display_data"
    }
   ],
   "source": [
    "movies['MainGenresCount'].hist()\n",
    "\n",
    "plt.title(\"Number of movies by number of genres\")\n",
    "plt.ylabel('# of movies', fontsize=12)\n",
    "plt.xlabel('# of genres', fontsize=12)\n",
    "plt.show()"
   ]
  },
  {
   "cell_type": "markdown",
   "metadata": {},
   "source": [
    "## Training models\n",
    "\n",
    "##### Why is it important to get your model trained correctly, so you can't see results like this -\n",
    "\n",
    "<br/>\n",
    "<br/>\n",
    "<center>\n",
    "<img src=\"Project_images/projectTitanic.jpeg\" width=500 /> \n",
    "    \n",
    "</center>\n",
    "\n"
   ]
  },
  {
   "cell_type": "code",
   "execution_count": 59,
   "metadata": {},
   "outputs": [],
   "source": [
    "\n",
    "# the dummy classes\n",
    "movies = pd.concat([movies, movies.GenreSplitMain.apply(lambda x: '-'.join(x)).str.get_dummies(sep='-')], axis=1)"
   ]
  },
  {
   "cell_type": "code",
   "execution_count": 60,
   "metadata": {},
   "outputs": [],
   "source": [
    "# the train and the test data set will be build when there is at least one genre for a movie\n",
    "MoviesTrain, MoviesTest = train_test_split(movies[movies.GenreCorrected!=''], random_state=42, test_size=0.30, shuffle=True)"
   ]
  },
  {
   "cell_type": "code",
   "execution_count": 61,
   "metadata": {},
   "outputs": [],
   "source": [
    "##Features\n",
    "# definition the algorithm for feature extraction\n",
    "tfidf = TfidfVectorizer(stop_words ='english', smooth_idf=False, sublinear_tf=False, norm=None, analyzer='word')"
   ]
  },
  {
   "cell_type": "code",
   "execution_count": 65,
   "metadata": {},
   "outputs": [],
   "source": [
    "\n",
    "# building the features\n",
    "x_train = tfidf.fit_transform(MoviesTrain.PlotClean_new) \n",
    "x_test  = tfidf.transform(MoviesTest.PlotClean_new)\n",
    "### for test data, the feature extraction will be done through the function transform()\n",
    "### to make sure there is no features dimensionality mismatch"
   ]
  },
  {
   "cell_type": "code",
   "execution_count": 66,
   "metadata": {},
   "outputs": [
    {
     "data": {
      "text/plain": [
       "scipy.sparse.csr.csr_matrix"
      ]
     },
     "execution_count": 66,
     "metadata": {},
     "output_type": "execute_result"
    }
   ],
   "source": [
    "type(x_train)"
   ]
  },
  {
   "cell_type": "code",
   "execution_count": 67,
   "metadata": {},
   "outputs": [
    {
     "data": {
      "text/plain": [
       "scipy.sparse.csr.csr_matrix"
      ]
     },
     "execution_count": 67,
     "metadata": {},
     "output_type": "execute_result"
    }
   ],
   "source": [
    "type(x_test)"
   ]
  },
  {
   "cell_type": "code",
   "execution_count": 68,
   "metadata": {},
   "outputs": [
    {
     "data": {
      "text/plain": [
       "array([[0., 0., 0., ..., 0., 0., 0.],\n",
       "       [0., 0., 0., ..., 0., 0., 0.],\n",
       "       [0., 0., 0., ..., 0., 0., 0.],\n",
       "       ...,\n",
       "       [0., 0., 0., ..., 0., 0., 0.],\n",
       "       [0., 0., 0., ..., 0., 0., 0.],\n",
       "       [0., 0., 0., ..., 0., 0., 0.]])"
      ]
     },
     "execution_count": 68,
     "metadata": {},
     "output_type": "execute_result"
    }
   ],
   "source": [
    "x_train.toarray()"
   ]
  },
  {
   "cell_type": "code",
   "execution_count": 69,
   "metadata": {},
   "outputs": [
    {
     "data": {
      "text/plain": [
       "[array(['abil', 'abl', 'accept', 'acquaint', 'activ', 'advers', 'affect',\n",
       "        'aggress', 'agre', 'aid', 'allow', 'amidst', 'apart', 'arena',\n",
       "        'armi', 'arous', 'arriv', 'art', 'artist', 'attempt', 'away',\n",
       "        'bag', 'bandit', 'bare', 'barrag', 'battl', 'beat', 'beaten',\n",
       "        'blow', 'bruce', 'brutal', 'challeng', 'chanc', 'chao', 'cheer',\n",
       "        'child', 'chines', 'chingchuen', 'chow', 'chun', 'claim',\n",
       "        'closeddoor', 'coal', 'colleagu', 'collect', 'colonel', 'come',\n",
       "        'compet', 'competit', 'consent', 'conserv', 'contain', 'cotton',\n",
       "        'crowd', 'day', 'declin', 'decrepit', 'defeat', 'defend', 'defens',\n",
       "        'demand', 'desper', 'despit', 'direct', 'discipl', 'discuss',\n",
       "        'display', 'earlier', 'earn', 'effect', 'embarrass', 'energi',\n",
       "        'enhanc', 'enrag', 'epilogu', 'equal', 'escap', 'establish',\n",
       "        'eventu', 'everi', 'everyon', 'exhibit', 'extort', 'famili',\n",
       "        'feel', 'fellow', 'fight', 'fighter', 'figur', 'final', 'flee',\n",
       "        'food', 'forc', 'forshan', 'foshan', 'friend', 'friendli', 'gang',\n",
       "        'gener', 'grow', 'gun', 'harass', 'headquart', 'held', 'help',\n",
       "        'highli', 'hong', 'hous', 'howev', 'hub', 'humili', 'ignit',\n",
       "        'impati', 'impecc', 'incapacit', 'includ', 'independ', 'inflict',\n",
       "        'insist', 'instead', 'instruct', 'invas', 'invis', 'ip', 'japanes',\n",
       "        'jin', 'karat', 'karateka', 'kill', 'kong', 'later', 'learn',\n",
       "        'led', 'lee', 'let', 'li', 'life', 'lin', 'liu', 'local', 'lose',\n",
       "        'love', 'maintain', 'man', 'mani', 'martial', 'master', 'match',\n",
       "        'meet', 'mercilessli', 'midway', 'militari', 'miura', 'money',\n",
       "        'need', 'northern', 'occupi', 'offer', 'offic', 'overwhelm',\n",
       "        'particip', 'person', 'polic', 'practic', 'pride', 'profession',\n",
       "        'profil', 'protect', 'public', 'rage', 'recruit', 'refus',\n",
       "        'region', 'relentless', 'reput', 'resent', 'respect', 'restraint',\n",
       "        'return', 'reveal', 'rice', 'robber', 'room', 'rude', 'run',\n",
       "        'sadist', 'sato', 'school', 'scuffl', 'selfdefens', 'send',\n",
       "        'sever', 'shanzhao', 'shoot', 'shoulder', 'sinc', 'skill',\n",
       "        'soldier', 'son', 'southern', 'spare', 'spend', 'squar', 'student',\n",
       "        'stylist', 'support', 'surviv', 'taken', 'taught', 'teach',\n",
       "        'techniqu', 'tell', 'thu', 'time', 'train', 'traine', 'translat',\n",
       "        'tri', 'unassum', 'uphold', 'use', 'variou', 'visit', 'want',\n",
       "        'warn', 'watch', 'wealth', 'wealthi', 'wife', 'win', 'wing',\n",
       "        'work', 'worker', 'zhao'], dtype='<U61')]"
      ]
     },
     "execution_count": 69,
     "metadata": {},
     "output_type": "execute_result"
    }
   ],
   "source": [
    "tfidf.inverse_transform(x_train[0].toarray())"
   ]
  },
  {
   "cell_type": "code",
   "execution_count": 70,
   "metadata": {},
   "outputs": [
    {
     "data": {
      "text/plain": [
       "array([[0., 0., 0., ..., 0., 0., 0.],\n",
       "       [0., 0., 0., ..., 0., 0., 0.],\n",
       "       [0., 0., 0., ..., 0., 0., 0.],\n",
       "       ...,\n",
       "       [0., 0., 0., ..., 0., 0., 0.],\n",
       "       [0., 0., 0., ..., 0., 0., 0.],\n",
       "       [0., 0., 0., ..., 0., 0., 0.]])"
      ]
     },
     "execution_count": 70,
     "metadata": {},
     "output_type": "execute_result"
    }
   ],
   "source": [
    "x_test.toarray()"
   ]
  },
  {
   "cell_type": "code",
   "execution_count": 71,
   "metadata": {},
   "outputs": [
    {
     "data": {
      "text/plain": [
       "[array(['alabama', 'artifact', 'automobil', 'bacon', 'bedford', 'caldwel',\n",
       "        'camilla', 'children', 'clash', 'cultur', 'decapit', 'describ',\n",
       "        'display', 'donna', 'duval', 'exwif', 'famili', 'father', 'film',\n",
       "        'funer', 'gawk', 'grisli', 'hometown', 'hurt', 'ii', 'includ',\n",
       "        'interview', 'involv', 'jayn', 'jim', 'kingsley', 'lanasa',\n",
       "        'london', 'mansfield', 'morrison', 'mother', 'movi', 'nearbi',\n",
       "        'oconnor', 'patriarch', 'phillip', 'play', 'refer', 'reveal',\n",
       "        'seat', 'set', 'sister', 'star', 'stevenson', 'supposedli',\n",
       "        'tennesse', 'thornton', 'titl', 'town', 'vehicl', 'veteran', 'war',\n",
       "        'wife', 'william', 'world'], dtype='<U61')]"
      ]
     },
     "execution_count": 71,
     "metadata": {},
     "output_type": "execute_result"
    }
   ],
   "source": [
    "tfidf.inverse_transform(x_test[0].toarray())"
   ]
  },
  {
   "cell_type": "code",
   "execution_count": 72,
   "metadata": {},
   "outputs": [
    {
     "name": "stdout",
     "output_type": "stream",
     "text": [
      "The corpus is huge. It contain 89935 words.\n"
     ]
    }
   ],
   "source": [
    "print('The corpus is huge. It contain {} words.'.format(len(x_train[0].toarray()[0])))"
   ]
  },
  {
   "cell_type": "code",
   "execution_count": 73,
   "metadata": {},
   "outputs": [],
   "source": [
    "# building the classes\n",
    "y_train = MoviesTrain[MoviesTrain.columns[14:]]\n",
    "y_test = MoviesTest[MoviesTest.columns[14:]]"
   ]
  },
  {
   "cell_type": "code",
   "execution_count": 76,
   "metadata": {},
   "outputs": [
    {
     "data": {
      "text/plain": [
       "(21, 21)"
      ]
     },
     "execution_count": 76,
     "metadata": {},
     "output_type": "execute_result"
    }
   ],
   "source": [
    "\n",
    "len(y_test.columns),len(y_train.columns)"
   ]
  },
  {
   "cell_type": "markdown",
   "metadata": {},
   "source": [
    "## Multinomial Naive Bayes Classifier\n",
    "<br/>\n",
    "<br/>\n",
    "\n",
    "<center>\n",
    "    \n",
    "<table><tr><td><img src='Project_images/projectnaivebayes2.png' width=500></td><td><img src='Project_images/projectnaiveuncle.png' width=300></td></tr></table>\n",
    "    \n",
    "</center>"
   ]
  },
  {
   "cell_type": "code",
   "execution_count": 77,
   "metadata": {},
   "outputs": [],
   "source": [
    "multinomialNB=OneVsRestClassifier(MultinomialNB(fit_prior=True, class_prior=None))"
   ]
  },
  {
   "cell_type": "code",
   "execution_count": 78,
   "metadata": {},
   "outputs": [
    {
     "data": {
      "text/plain": [
       "OneVsRestClassifier(estimator=MultinomialNB(alpha=1.0, class_prior=None, fit_prior=True),\n",
       "          n_jobs=None)"
      ]
     },
     "execution_count": 78,
     "metadata": {},
     "output_type": "execute_result"
    }
   ],
   "source": [
    "# fitting the model\n",
    "multinomialNB.fit(x_train, y_train.action)"
   ]
  },
  {
   "cell_type": "code",
   "execution_count": 79,
   "metadata": {},
   "outputs": [],
   "source": [
    "# compute the testing accuracy\n",
    "prediction = multinomialNB.predict(x_test)"
   ]
  },
  {
   "cell_type": "code",
   "execution_count": 80,
   "metadata": {},
   "outputs": [
    {
     "name": "stdout",
     "output_type": "stream",
     "text": [
      "Test accuracy is 0.8215946071594608\n"
     ]
    }
   ],
   "source": [
    "print('Test accuracy is {}'.format(accuracy_score(y_test.action, prediction)))"
   ]
  },
  {
   "cell_type": "code",
   "execution_count": 81,
   "metadata": {},
   "outputs": [
    {
     "data": {
      "text/plain": [
       "20"
      ]
     },
     "execution_count": 81,
     "metadata": {},
     "output_type": "execute_result"
    }
   ],
   "source": [
    "len(mainGenres)"
   ]
  },
  {
   "cell_type": "markdown",
   "metadata": {},
   "source": [
    "#### multinomial Naive Bayes Classification for all the movie genres"
   ]
  },
  {
   "cell_type": "code",
   "execution_count": 82,
   "metadata": {},
   "outputs": [
    {
     "data": {
      "text/html": [
       "<div>\n",
       "<style scoped>\n",
       "    .dataframe tbody tr th:only-of-type {\n",
       "        vertical-align: middle;\n",
       "    }\n",
       "\n",
       "    .dataframe tbody tr th {\n",
       "        vertical-align: top;\n",
       "    }\n",
       "\n",
       "    .dataframe thead th {\n",
       "        text-align: right;\n",
       "    }\n",
       "</style>\n",
       "<table border=\"1\" class=\"dataframe\">\n",
       "  <thead>\n",
       "    <tr style=\"text-align: right;\">\n",
       "      <th></th>\n",
       "      <th>Genre</th>\n",
       "      <th>accuracy_multinomialNB</th>\n",
       "    </tr>\n",
       "  </thead>\n",
       "  <tbody>\n",
       "  </tbody>\n",
       "</table>\n",
       "</div>"
      ],
      "text/plain": [
       "Empty DataFrame\n",
       "Columns: [Genre, accuracy_multinomialNB]\n",
       "Index: []"
      ]
     },
     "execution_count": 82,
     "metadata": {},
     "output_type": "execute_result"
    }
   ],
   "source": [
    "accuracy_multinomialNB=pd.DataFrame(columns=['Genre', 'accuracy_multinomialNB'])\n",
    "accuracy_multinomialNB.head()"
   ]
  },
  {
   "cell_type": "code",
   "execution_count": 83,
   "metadata": {},
   "outputs": [
    {
     "data": {
      "text/html": [
       "<div>\n",
       "<style scoped>\n",
       "    .dataframe tbody tr th:only-of-type {\n",
       "        vertical-align: middle;\n",
       "    }\n",
       "\n",
       "    .dataframe tbody tr th {\n",
       "        vertical-align: top;\n",
       "    }\n",
       "\n",
       "    .dataframe thead th {\n",
       "        text-align: right;\n",
       "    }\n",
       "</style>\n",
       "<table border=\"1\" class=\"dataframe\">\n",
       "  <thead>\n",
       "    <tr style=\"text-align: right;\">\n",
       "      <th></th>\n",
       "      <th>Genre</th>\n",
       "      <th>accuracy_multinomialNB</th>\n",
       "    </tr>\n",
       "  </thead>\n",
       "  <tbody>\n",
       "    <tr>\n",
       "      <th>0</th>\n",
       "      <td>drama</td>\n",
       "      <td>0.668178</td>\n",
       "    </tr>\n",
       "    <tr>\n",
       "      <th>1</th>\n",
       "      <td>comedy</td>\n",
       "      <td>0.721409</td>\n",
       "    </tr>\n",
       "    <tr>\n",
       "      <th>2</th>\n",
       "      <td>action</td>\n",
       "      <td>0.821595</td>\n",
       "    </tr>\n",
       "    <tr>\n",
       "      <th>3</th>\n",
       "      <td>thriller</td>\n",
       "      <td>0.875872</td>\n",
       "    </tr>\n",
       "    <tr>\n",
       "      <th>4</th>\n",
       "      <td>romance</td>\n",
       "      <td>0.841818</td>\n",
       "    </tr>\n",
       "    <tr>\n",
       "      <th>5</th>\n",
       "      <td>crime</td>\n",
       "      <td>0.908066</td>\n",
       "    </tr>\n",
       "    <tr>\n",
       "      <th>6</th>\n",
       "      <td>musical</td>\n",
       "      <td>0.934333</td>\n",
       "    </tr>\n",
       "    <tr>\n",
       "      <th>7</th>\n",
       "      <td>animation</td>\n",
       "      <td>0.972222</td>\n",
       "    </tr>\n",
       "    <tr>\n",
       "      <th>8</th>\n",
       "      <td>children</td>\n",
       "      <td>0.953394</td>\n",
       "    </tr>\n",
       "    <tr>\n",
       "      <th>9</th>\n",
       "      <td>fantasy</td>\n",
       "      <td>0.971176</td>\n",
       "    </tr>\n",
       "    <tr>\n",
       "      <th>10</th>\n",
       "      <td>mystery</td>\n",
       "      <td>0.969898</td>\n",
       "    </tr>\n",
       "    <tr>\n",
       "      <th>11</th>\n",
       "      <td>biography</td>\n",
       "      <td>0.964668</td>\n",
       "    </tr>\n",
       "    <tr>\n",
       "      <th>12</th>\n",
       "      <td>black</td>\n",
       "      <td>0.967922</td>\n",
       "    </tr>\n",
       "    <tr>\n",
       "      <th>13</th>\n",
       "      <td>history</td>\n",
       "      <td>0.980707</td>\n",
       "    </tr>\n",
       "    <tr>\n",
       "      <th>14</th>\n",
       "      <td>short</td>\n",
       "      <td>0.987331</td>\n",
       "    </tr>\n",
       "    <tr>\n",
       "      <th>15</th>\n",
       "      <td>documentary</td>\n",
       "      <td>0.991399</td>\n",
       "    </tr>\n",
       "    <tr>\n",
       "      <th>16</th>\n",
       "      <td>sports</td>\n",
       "      <td>0.992213</td>\n",
       "    </tr>\n",
       "    <tr>\n",
       "      <th>17</th>\n",
       "      <td>series</td>\n",
       "      <td>0.996165</td>\n",
       "    </tr>\n",
       "    <tr>\n",
       "      <th>18</th>\n",
       "      <td>adult</td>\n",
       "      <td>0.995119</td>\n",
       "    </tr>\n",
       "    <tr>\n",
       "      <th>19</th>\n",
       "      <td>political</td>\n",
       "      <td>0.995467</td>\n",
       "    </tr>\n",
       "  </tbody>\n",
       "</table>\n",
       "</div>"
      ],
      "text/plain": [
       "          Genre accuracy_multinomialNB\n",
       "0         drama               0.668178\n",
       "1        comedy               0.721409\n",
       "2        action               0.821595\n",
       "3      thriller               0.875872\n",
       "4       romance               0.841818\n",
       "5         crime               0.908066\n",
       "6       musical               0.934333\n",
       "7     animation               0.972222\n",
       "8      children               0.953394\n",
       "9       fantasy               0.971176\n",
       "10      mystery               0.969898\n",
       "11    biography               0.964668\n",
       "12        black               0.967922\n",
       "13      history               0.980707\n",
       "14        short               0.987331\n",
       "15  documentary               0.991399\n",
       "16       sports               0.992213\n",
       "17       series               0.996165\n",
       "18        adult               0.995119\n",
       "19    political               0.995467"
      ]
     },
     "execution_count": 83,
     "metadata": {},
     "output_type": "execute_result"
    }
   ],
   "source": [
    "i = 0\n",
    "for genre in mainGenres:\n",
    "    multinomialNB.fit(x_train, y_train[genre])\n",
    "    prediction = multinomialNB.predict(x_test)\n",
    "    accuracy_multinomialNB.loc[i,'Genre'] = genre\n",
    "    accuracy_multinomialNB.loc[i,'accuracy_multinomialNB'] = accuracy_score(y_test[genre], prediction)\n",
    "    i=i+1\n",
    "    \n",
    "\n",
    "    \n",
    "accuracy_multinomialNB"
   ]
  },
  {
   "cell_type": "markdown",
   "metadata": {},
   "source": [
    "### Now let's try the same model with Random Forest Classifier\n",
    "<br/>\n",
    "<br/>\n",
    "\n",
    "<center>\n",
    "    \n",
    "<img src='Project_images/projectrandomforest4.png' width=600>\n",
    "    \n",
    "</center>"
   ]
  },
  {
   "cell_type": "code",
   "execution_count": 113,
   "metadata": {},
   "outputs": [],
   "source": [
    "\n",
    "# building the features\n",
    "x_train1 = tfidf.fit_transform(MoviesTrain.PlotClean_new.sample(2000))\n",
    "\n",
    "x_test1  = tfidf.transform(MoviesTest.PlotClean_new)\n",
    "### for test data, the feature extraction will be done through the function transform()\n",
    "### to make sure there is no features dimensionalitxy mismatch"
   ]
  },
  {
   "cell_type": "code",
   "execution_count": 114,
   "metadata": {},
   "outputs": [
    {
     "data": {
      "text/plain": [
       "array([[0., 0., 0., ..., 0., 0., 0.],\n",
       "       [0., 0., 0., ..., 0., 0., 0.],\n",
       "       [0., 0., 0., ..., 0., 0., 0.],\n",
       "       ...,\n",
       "       [0., 0., 0., ..., 0., 0., 0.],\n",
       "       [0., 0., 0., ..., 0., 0., 0.],\n",
       "       [0., 0., 0., ..., 0., 0., 0.]])"
      ]
     },
     "execution_count": 114,
     "metadata": {},
     "output_type": "execute_result"
    }
   ],
   "source": [
    "x_train1.toarray()"
   ]
  },
  {
   "cell_type": "code",
   "execution_count": 115,
   "metadata": {},
   "outputs": [
    {
     "data": {
      "text/plain": [
       "[array(['action', 'advoc', 'air', 'american', 'antiwar', 'atroc', 'attend',\n",
       "        'await', 'becom', 'beull', 'camp', 'children', 'civilian',\n",
       "        'commit', 'committe', 'condit', 'confer', 'confirm', 'dc', 'death',\n",
       "        'depict', 'develop', 'dornbeck', 'eagerli', 'eldest', 'film',\n",
       "        'florida', 'forc', 'friendship', 'garrett', 'home', 'horrifi',\n",
       "        'hostil', 'howev', 'husband', 'increas', 'inde', 'kay', 'kill',\n",
       "        'lawton', 'lieuten', 'mari', 'marri', 'miss', 'pari', 'peac',\n",
       "        'phil', 'prisonerofwar', 'proof', 'provid', 'receiv', 'releas',\n",
       "        'report', 'return', 'sandi', 'school', 'serv', 'sharon', 'shock',\n",
       "        'shown', 'soldier', 'teacher', 'telegram', 'testifi', 'togeth',\n",
       "        'travel', 'treat', 'ultim', 'vietnam', 'vietnames', 'washington',\n",
       "        'weaken', 'wed', 'week', 'went', 'women'], dtype='<U29')]"
      ]
     },
     "execution_count": 115,
     "metadata": {},
     "output_type": "execute_result"
    }
   ],
   "source": [
    "tfidf.inverse_transform(x_train1[0].toarray())"
   ]
  },
  {
   "cell_type": "code",
   "execution_count": 116,
   "metadata": {},
   "outputs": [
    {
     "data": {
      "text/plain": [
       "array([[0., 0., 0., ..., 0., 0., 0.],\n",
       "       [0., 0., 0., ..., 0., 0., 0.],\n",
       "       [0., 0., 0., ..., 0., 0., 0.],\n",
       "       ...,\n",
       "       [0., 0., 0., ..., 0., 0., 0.],\n",
       "       [0., 0., 0., ..., 0., 0., 0.],\n",
       "       [0., 0., 0., ..., 0., 0., 0.]])"
      ]
     },
     "execution_count": 116,
     "metadata": {},
     "output_type": "execute_result"
    }
   ],
   "source": [
    "x_test1.toarray()"
   ]
  },
  {
   "cell_type": "code",
   "execution_count": 117,
   "metadata": {},
   "outputs": [
    {
     "data": {
      "text/plain": [
       "[array(['alabama', 'artifact', 'automobil', 'bacon', 'bedford', 'caldwel',\n",
       "        'camilla', 'children', 'clash', 'cultur', 'decapit', 'describ',\n",
       "        'display', 'donna', 'duval', 'exwif', 'famili', 'father', 'film',\n",
       "        'funer', 'grisli', 'hometown', 'hurt', 'ii', 'includ', 'interview',\n",
       "        'involv', 'jayn', 'jim', 'kingsley', 'london', 'mansfield',\n",
       "        'morrison', 'mother', 'movi', 'nearbi', 'oconnor', 'patriarch',\n",
       "        'phillip', 'play', 'refer', 'reveal', 'seat', 'set', 'sister',\n",
       "        'star', 'stevenson', 'supposedli', 'tennesse', 'thornton', 'titl',\n",
       "        'town', 'vehicl', 'veteran', 'war', 'wife', 'william', 'world'],\n",
       "       dtype='<U29')]"
      ]
     },
     "execution_count": 117,
     "metadata": {},
     "output_type": "execute_result"
    }
   ],
   "source": [
    "tfidf.inverse_transform(x_test1[0].toarray())"
   ]
  },
  {
   "cell_type": "code",
   "execution_count": 118,
   "metadata": {},
   "outputs": [
    {
     "name": "stdout",
     "output_type": "stream",
     "text": [
      "The corpus is huge. It contain 26493 words.\n"
     ]
    }
   ],
   "source": [
    "print('The corpus is huge. It contain {} words.'.format(len(x_train1[0].toarray()[0])))"
   ]
  },
  {
   "cell_type": "code",
   "execution_count": 119,
   "metadata": {},
   "outputs": [],
   "source": [
    "# building the classes\n",
    "y_train = MoviesTrain[MoviesTrain.columns[14:]].sample(2000)\n",
    "y_test = MoviesTest[MoviesTest.columns[14:]]"
   ]
  },
  {
   "cell_type": "code",
   "execution_count": 120,
   "metadata": {},
   "outputs": [
    {
     "name": "stdout",
     "output_type": "stream",
     "text": [
      "Training Features Shape: (2000, 26493)\n",
      "Training Labels Shape: (2000, 21)\n",
      "Testing Features Shape: (8604, 26493)\n",
      "Testing Labels Shape: (8604, 21)\n"
     ]
    }
   ],
   "source": [
    "print('Training Features Shape:', x_train1.shape)\n",
    "print('Training Labels Shape:', y_train.shape)\n",
    "print('Testing Features Shape:', x_test1.shape)\n",
    "print('Testing Labels Shape:', y_test.shape)"
   ]
  },
  {
   "cell_type": "code",
   "execution_count": 121,
   "metadata": {},
   "outputs": [],
   "source": [
    "### Random Forest \n",
    "# Import the model we are using\n",
    "from sklearn.ensemble import RandomForestRegressor\n",
    "\n",
    "# Instantiate model \n",
    "rf = RandomForestRegressor(n_estimators= 1000, random_state=42)\n",
    "\n",
    "# Train the model on training data\n",
    "rf.fit(x_train1, y_train);\n"
   ]
  },
  {
   "cell_type": "code",
   "execution_count": 122,
   "metadata": {},
   "outputs": [
    {
     "name": "stdout",
     "output_type": "stream",
     "text": [
      "Mean Absolute Error: MainGenresCount    0.38\n",
      "action             0.33\n",
      "adult              0.00\n",
      "animation          0.05\n",
      "biography          0.02\n",
      "black              0.02\n",
      "children           0.04\n",
      "comedy             0.38\n",
      "crime              0.10\n",
      "documentary        0.01\n",
      "drama              0.46\n",
      "fantasy            0.03\n",
      "history            0.02\n",
      "musical            0.05\n",
      "mystery            0.03\n",
      "political          0.00\n",
      "romance            0.14\n",
      "series             0.00\n",
      "short              0.01\n",
      "sports             0.01\n",
      "thriller           0.19\n",
      "dtype: float64 degrees.\n"
     ]
    }
   ],
   "source": [
    "# Make predictions on Test Data\n",
    "# Use the forest's predict method on the test data\n",
    "predictions = rf.predict(x_test1)\n",
    "\n",
    "# Calculate the absolute errors\n",
    "errors = abs(predictions - y_test)\n",
    "\n",
    "# Print out the mean absolute error (mae)\n",
    "print('Mean Absolute Error:', round(np.mean(errors), 2), 'degrees.')"
   ]
  },
  {
   "cell_type": "code",
   "execution_count": 123,
   "metadata": {},
   "outputs": [
    {
     "name": "stdout",
     "output_type": "stream",
     "text": [
      "Accuracy: MainGenresCount    61.53\n",
      "action             66.70\n",
      "adult              99.68\n",
      "animation          94.79\n",
      "biography          97.66\n",
      "black              97.64\n",
      "children           95.97\n",
      "comedy             62.14\n",
      "crime              90.09\n",
      "documentary        99.40\n",
      "drama              53.76\n",
      "fantasy            97.06\n",
      "history            98.38\n",
      "musical            94.59\n",
      "mystery            97.25\n",
      "political          99.60\n",
      "romance            85.91\n",
      "series             99.63\n",
      "short              98.77\n",
      "sports             99.17\n",
      "thriller           80.98\n",
      "dtype: float64 %.\n"
     ]
    }
   ],
   "source": [
    "# Determine performance metrics\n",
    "# Calculate mean absolute percentage error (MAPE)\n",
    "mape = 100 * (errors)\n",
    "\n",
    "# Calculate and display accuracy\n",
    "accuracy = 100 - np.mean(mape)\n",
    "print('Accuracy:', round(accuracy, 2), '%.')"
   ]
  },
  {
   "cell_type": "markdown",
   "metadata": {},
   "source": [
    "**MultiNomial Naive Bayes Accuracy** | **Random Forest Accuracy** |\n",
    "-------------------------------------|----------------------------|\n",
    "               82.5%                 |           62%              |"
   ]
  },
  {
   "cell_type": "markdown",
   "metadata": {},
   "source": [
    "# CONCLUSION\n",
    "\n",
    "We predicted Movie Genres on basis of plot using two Classification Algorithms namely MultiNomial Naive Bayes Classifier and \n",
    "Random Forest Regressor.\n",
    "We found that the accuracy of MultiNomial Naive Bayes Classifier is 82.5% while accuracy of Random Forest Regressor is 62%.\n",
    "Hence seeing the fact we can conclude that Multinomial classifier is more suitable for our dataset."
   ]
  },
  {
   "cell_type": "markdown",
   "metadata": {},
   "source": [
    "\n",
    "<br/>\n",
    "<br/>\n",
    "\n",
    "<center>\n",
    "\n",
    "<img src='Project_images/projectanyquestions.png' width=500>    \n",
    "    \n",
    "</center>"
   ]
  },
  {
   "cell_type": "markdown",
   "metadata": {},
   "source": [
    "##### References :\n",
    "https://www.kaggle.com/ragnisah/text-data-cleaning-tweets-analysis\n",
    "\n",
    "https://www.kaggle.com/ashishpatel26/beginner-to-intermediate-nlp-tutorial\n",
    "\n",
    "https://www.analyticsvidhya.com/blog/2018/02/the-different-methods-deal-text-data-predictive-python/\n",
    "\n",
    "https://www.geeksforgeeks.org/confusion-matrix-machine-learning/"
   ]
  }
 ],
 "metadata": {
  "kernelspec": {
   "display_name": "Python 3",
   "language": "python",
   "name": "python3"
  },
  "language_info": {
   "codemirror_mode": {
    "name": "ipython",
    "version": 3
   },
   "file_extension": ".py",
   "mimetype": "text/x-python",
   "name": "python",
   "nbconvert_exporter": "python",
   "pygments_lexer": "ipython3",
   "version": "3.6.8"
  }
 },
 "nbformat": 4,
 "nbformat_minor": 2
}
